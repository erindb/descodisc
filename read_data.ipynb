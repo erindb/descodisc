{
 "cells": [
  {
   "cell_type": "markdown",
   "metadata": {},
   "source": [
    "# Read corpus\n",
    "\n",
    "Columns:\n",
    "* sentence\n",
    "* sentence # overall\n",
    "* sentence # within doc\n",
    "* sentence # within section\n",
    "* sentence # within paragraph\n",
    "* paragraph # overall\n",
    "* paragraph # within section\n",
    "* paragraph # within doc\n",
    "* section title\n",
    "* section level\n",
    "* section # overall\n",
    "* section # within doc\n",
    "* doc title\n",
    "* doc # overall\n",
    "\n",
    "Separators:\n",
    "* nltk to tokenize sentences within a paragraph\n",
    "* paragraphs sep by new lines\n",
    "* sections: \"= = title = =\" (or more \" = \")\n",
    "* articles: \"= title =\"\n",
    "\n",
    "separately, we'll make sentence embedding matrics\n",
    "which will match to sentences by their sentence # overall"
   ]
  },
  {
   "cell_type": "code",
   "execution_count": 1,
   "metadata": {},
   "outputs": [],
   "source": [
    "import pandas as pd\n",
    "import re\n",
    "from copy import deepcopy\n",
    "from pprint import pprint\n",
    "from nltk.tokenize import sent_tokenize"
   ]
  },
  {
   "cell_type": "code",
   "execution_count": 2,
   "metadata": {},
   "outputs": [],
   "source": [
    "import argparse\n",
    "parser = argparse.ArgumentParser(description='Process some integers.')\n",
    "parser.add_argument('-f') # jupyter\n",
    "parser.add_argument('--n_documents', type=int, default=10,\n",
    "                   help='number of documents to collect data for')\n",
    "args = parser.parse_args()\n",
    "n_articles = args.n_documents"
   ]
  },
  {
   "cell_type": "markdown",
   "metadata": {},
   "source": [
    "1. Create a list of dictionaries in which each dictionary corresponds to an input data row.\n",
    "2. Create a data frame from this list.\n",
    "\n",
    "```\n",
    "rows_list = []\n",
    "for row in input_rows:\n",
    "\n",
    "        dict1 = {}\n",
    "        # get input row in dictionary format\n",
    "        # key = col_name\n",
    "        dict1.update(blah..) \n",
    "\n",
    "        rows_list.append(dict1)\n",
    "\n",
    "df = pd.DataFrame(rows_list)   \n",
    "```\n",
    "\n",
    "(https://stackoverflow.com/a/17496530/6350352)"
   ]
  },
  {
   "cell_type": "code",
   "execution_count": 4,
   "metadata": {},
   "outputs": [],
   "source": [
    "def new_sec(title, level, sentence_data):\n",
    "    sentence_data[\"sec_level\"] = level\n",
    "    sentence_data[\"sec_id\"] += 1\n",
    "    if (level == 0):\n",
    "        # new doc\n",
    "        sentence_data[\"doc_title\"] = title\n",
    "        sentence_data[\"sec_title\"] = \"\"\n",
    "        sentence_data[\"doc_id\"] += 1\n",
    "        sentence_data[\"s_in_doc\"] = -1\n",
    "        sentence_data[\"par_in_doc\"] = -1\n",
    "        sentence_data[\"sec_in_doc\"] = 0\n",
    "    else:\n",
    "        # new sec, same doc\n",
    "        sentence_data[\"sec_title\"] = title\n",
    "        sentence_data[\"s_in_sec\"] = -1\n",
    "        sentence_data[\"par_in_sec\"] = -1\n",
    "        sentence_data[\"sec_in_doc\"] += 1\n",
    "    return sentence_data\n",
    "\n",
    "def new_par(sentence_data):\n",
    "    sentence_data[\"par_id\"] += 1\n",
    "    sentence_data[\"par_in_sec\"] += 1\n",
    "    sentence_data[\"par_in_doc\"] += 1\n",
    "    sentence_data[\"s_in_par\"] = -1\n",
    "    return sentence_data\n",
    "\n",
    "def new_s(sentence_data):\n",
    "    sentence_data[\"sentence\"] = sentence\n",
    "    sentence_data[\"s_id\"] += 1\n",
    "    sentence_data[\"s_in_par\"] += 1\n",
    "    sentence_data[\"s_in_sec\"] += 1\n",
    "    sentence_data[\"s_in_doc\"] += 1\n",
    "    return sentence_data\n",
    "\n",
    "def init_sentence_data():\n",
    "    return {\n",
    "        # sentence string\n",
    "        \"sentence\": \"\",\n",
    "\n",
    "        # sentence IDs\n",
    "        \"s_id\": -1,\n",
    "        \"s_in_doc\": -1,\n",
    "        \"s_in_sec\": -1,\n",
    "        \"s_in_par\": -1,\n",
    "\n",
    "        # paragraph IDs\n",
    "        \"par_id\": -1,\n",
    "        \"par_in_doc\": -1,\n",
    "        \"par_in_sec\": -1,\n",
    "\n",
    "        # section IDs\n",
    "        \"sec_title\": \"\",\n",
    "        \"sec_level\": -1,\n",
    "        \"sec_id\": -1,\n",
    "        \"sec_in_doc\": -1,\n",
    "\n",
    "        # document IDs\n",
    "        \"doc_title\": \"\",\n",
    "        \"doc_id\": -1\n",
    "    }"
   ]
  },
  {
   "cell_type": "code",
   "execution_count": 5,
   "metadata": {},
   "outputs": [
    {
     "name": "stdout",
     "output_type": "stream",
     "text": [
      "data/wiki/wiki_reformatted_100.csv\n"
     ]
    }
   ],
   "source": [
    "# filenames\n",
    "input_data_file = \"data/wiki/wiki.train.raw\"\n",
    "\n",
    "output_data_file = \"data/wiki/wiki_reformatted_%d.csv\" %(n_articles)\n",
    "# later: wiki_skipthoughts, wiki_dissent, etc.\n",
    "\n",
    "print(output_data_file)"
   ]
  },
  {
   "cell_type": "code",
   "execution_count": 6,
   "metadata": {},
   "outputs": [
    {
     "name": "stdout",
     "output_type": "stream",
     "text": [
      "stopping early\n"
     ]
    }
   ],
   "source": [
    "# initialize sentence data\n",
    "sentences_list = []\n",
    "level_signifier = \" =\"\n",
    "sentence_data = init_sentence_data()\n",
    "# recognize titles of articles and sections\n",
    "title_pattern = r\"^=(?:%s)* (.*?)((?:%s)+)$\" %(level_signifier, level_signifier)\n",
    "# read through wikipedia file\n",
    "after_newline = True\n",
    "for line in open(input_data_file, \"r\"):\n",
    "    line = line.strip()\n",
    "    title_match = re.match(title_pattern, line)\n",
    "    if (title_match and after_newline):\n",
    "        title_elements = title_match.groups()\n",
    "        title = title_elements[0]\n",
    "        # level based on number of equals signs\n",
    "        level = len(re.findall(level_signifier, title_elements[1])) - 1\n",
    "        sentence_data = new_sec(title, level, sentence_data)\n",
    "        if (sentence_data[\"doc_id\"]) >= n_articles:\n",
    "            print(\"stopping early\")\n",
    "            break\n",
    "    elif (line == \"\"):\n",
    "        after_newline = True\n",
    "    else:\n",
    "        after_newline = False\n",
    "        # new paragraph\n",
    "        sentence_data = new_par(sentence_data)\n",
    "        # use nltk to tokenize into sentences\n",
    "        sentences = sent_tokenize(line)\n",
    "        for sentence in sentences:\n",
    "            sentence_data = new_s(sentence_data)\n",
    "            sentences_list.append(deepcopy(sentence_data))"
   ]
  },
  {
   "cell_type": "code",
   "execution_count": 7,
   "metadata": {},
   "outputs": [],
   "source": [
    "df = pd.DataFrame(sentences_list)"
   ]
  },
  {
   "cell_type": "code",
   "execution_count": 8,
   "metadata": {},
   "outputs": [],
   "source": [
    "df.to_csv(output_data_file)"
   ]
  },
  {
   "cell_type": "markdown",
   "metadata": {},
   "source": [
    "```\n",
    "jupyter nbconvert --to script read_data.ipynb\n",
    "```"
   ]
  },
  {
   "cell_type": "code",
   "execution_count": null,
   "metadata": {},
   "outputs": [],
   "source": []
  },
  {
   "cell_type": "code",
   "execution_count": null,
   "metadata": {},
   "outputs": [],
   "source": []
  }
 ],
 "metadata": {
  "kernelspec": {
   "display_name": "Python [conda env:dod]",
   "language": "python",
   "name": "conda-env-dod-py"
  },
  "language_info": {
   "codemirror_mode": {
    "name": "ipython",
    "version": 3
   },
   "file_extension": ".py",
   "mimetype": "text/x-python",
   "name": "python",
   "nbconvert_exporter": "python",
   "pygments_lexer": "ipython3",
   "version": "3.7.0"
  }
 },
 "nbformat": 4,
 "nbformat_minor": 2
}
