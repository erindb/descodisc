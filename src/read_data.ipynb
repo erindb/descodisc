{
 "cells": [
  {
   "cell_type": "markdown",
   "metadata": {},
   "source": [
    "# Read corpus\n",
    "\n",
    "Columns:\n",
    "* sentence\n",
    "* sentence # overall\n",
    "* sentence # within doc\n",
    "* sentence # within section\n",
    "* sentence # within paragraph\n",
    "* paragraph # overall\n",
    "* paragraph # within section\n",
    "* paragraph # within doc\n",
    "* section title\n",
    "* section level\n",
    "* section # overall\n",
    "* section # within doc\n",
    "* doc title\n",
    "* doc # overall\n",
    "* # sentences in par\n",
    "* # sentences in doc\n",
    "* # sentences in sec\n",
    "* # paragraphs in sec\n",
    "* # paragraphs in doc\n",
    "* # secs in doc\n",
    "\n",
    "Separators:\n",
    "* nltk to tokenize sentences within a paragraph\n",
    "* paragraphs sep by new lines\n",
    "* sections: \"= = title = =\" (or more \" = \")\n",
    "* articles: \"= title =\"\n",
    "\n",
    "separately, we'll make sentence embedding matrics\n",
    "which will match to sentences by their sentence # overall"
   ]
  },
  {
   "cell_type": "code",
   "execution_count": 18,
   "metadata": {},
   "outputs": [],
   "source": [
    "import pandas as pd\n",
    "import re\n",
    "from copy import deepcopy\n",
    "from pprint import pprint\n",
    "from nltk.tokenize import sent_tokenize\n",
    "import numpy as np"
   ]
  },
  {
   "cell_type": "code",
   "execution_count": 19,
   "metadata": {},
   "outputs": [],
   "source": [
    "import argparse\n",
    "parser = argparse.ArgumentParser(description='Process some integers.')\n",
    "parser.add_argument('-f') # jupyter\n",
    "parser.add_argument('--n_documents', type=int, default=10,\n",
    "                   help='number of documents to collect data for')\n",
    "args = parser.parse_args()\n",
    "n_articles = args.n_documents"
   ]
  },
  {
   "cell_type": "code",
   "execution_count": 20,
   "metadata": {},
   "outputs": [],
   "source": [
    "n_articles = 100"
   ]
  },
  {
   "cell_type": "markdown",
   "metadata": {},
   "source": [
    "1. Create a list of dictionaries in which each dictionary corresponds to an input data row.\n",
    "2. Create a data frame from this list.\n",
    "\n",
    "```\n",
    "rows_list = []\n",
    "for row in input_rows:\n",
    "\n",
    "        dict1 = {}\n",
    "        # get input row in dictionary format\n",
    "        # key = col_name\n",
    "        dict1.update(blah..) \n",
    "\n",
    "        rows_list.append(dict1)\n",
    "\n",
    "df = pd.DataFrame(rows_list)   \n",
    "```\n",
    "\n",
    "(https://stackoverflow.com/a/17496530/6350352)"
   ]
  },
  {
   "cell_type": "code",
   "execution_count": 21,
   "metadata": {},
   "outputs": [],
   "source": [
    "def new_sec(title, level, sentence_data):\n",
    "    sentence_data[\"sec_level\"] = level\n",
    "    sentence_data[\"sec_id\"] += 1\n",
    "    if (level == 0):\n",
    "        # new doc\n",
    "        sentence_data[\"doc_title\"] = title\n",
    "        sentence_data[\"sec_title\"] = \"\"\n",
    "        sentence_data[\"doc_id\"] += 1\n",
    "        sentence_data[\"s_in_doc\"] = -1\n",
    "        sentence_data[\"par_in_doc\"] = -1\n",
    "        sentence_data[\"sec_in_doc\"] = 0\n",
    "    else:\n",
    "        # new sec, same doc\n",
    "        sentence_data[\"sec_title\"] = title\n",
    "        sentence_data[\"s_in_sec\"] = -1\n",
    "        sentence_data[\"par_in_sec\"] = -1\n",
    "        sentence_data[\"sec_in_doc\"] += 1\n",
    "    return sentence_data\n",
    "\n",
    "def new_par(sentence_data):\n",
    "    sentence_data[\"par_id\"] += 1\n",
    "    sentence_data[\"par_in_sec\"] += 1\n",
    "    sentence_data[\"par_in_doc\"] += 1\n",
    "    sentence_data[\"s_in_par\"] = -1\n",
    "    return sentence_data\n",
    "\n",
    "def new_s(sentence_data):\n",
    "    sentence_data[\"sentence\"] = sentence\n",
    "    sentence_data[\"s_id\"] += 1\n",
    "    sentence_data[\"s_in_par\"] += 1\n",
    "    sentence_data[\"s_in_sec\"] += 1\n",
    "    sentence_data[\"s_in_doc\"] += 1\n",
    "    return sentence_data\n",
    "\n",
    "def init_sentence_data():\n",
    "    return {\n",
    "        # sentence string\n",
    "        \"sentence\": \"\",\n",
    "\n",
    "        # sentence IDs\n",
    "        \"s_id\": -1,\n",
    "        \"s_in_doc\": -1,\n",
    "        \"s_in_sec\": -1,\n",
    "        \"s_in_par\": -1,\n",
    "\n",
    "        # paragraph IDs\n",
    "        \"par_id\": -1,\n",
    "        \"par_in_doc\": -1,\n",
    "        \"par_in_sec\": -1,\n",
    "\n",
    "        # section IDs\n",
    "        \"sec_title\": \"\",\n",
    "        \"sec_level\": -1,\n",
    "        \"sec_id\": -1,\n",
    "        \"sec_in_doc\": -1,\n",
    "\n",
    "        # document IDs\n",
    "        \"doc_title\": \"\",\n",
    "        \"doc_id\": -1\n",
    "    }"
   ]
  },
  {
   "cell_type": "code",
   "execution_count": 22,
   "metadata": {},
   "outputs": [
    {
     "name": "stdout",
     "output_type": "stream",
     "text": [
      "../data/wiki/wiki_reformatted_100.csv\n"
     ]
    }
   ],
   "source": [
    "# filenames\n",
    "input_data_file = \"../data/wiki/wiki.train.raw\"\n",
    "\n",
    "output_data_file = \"../data/wiki/wiki_reformatted_%d.csv\" %(n_articles)\n",
    "# later: wiki_skipthoughts, wiki_dissent, etc.\n",
    "\n",
    "print(output_data_file)"
   ]
  },
  {
   "cell_type": "code",
   "execution_count": 23,
   "metadata": {},
   "outputs": [
    {
     "name": "stdout",
     "output_type": "stream",
     "text": [
      "stopping early\n"
     ]
    }
   ],
   "source": [
    "# initialize sentence data\n",
    "sentences_list = []\n",
    "level_signifier = \" =\"\n",
    "sentence_data = init_sentence_data()\n",
    "# recognize titles of articles and sections\n",
    "title_pattern = r\"^=(?:%s)* (.*?)((?:%s)+)$\" %(level_signifier, level_signifier)\n",
    "# read through wikipedia file\n",
    "after_newline = True\n",
    "for line in open(input_data_file, \"r\"):\n",
    "    line = line.strip()\n",
    "    title_match = re.match(title_pattern, line)\n",
    "    if (title_match and after_newline):\n",
    "        title_elements = title_match.groups()\n",
    "        title = title_elements[0]\n",
    "        # level based on number of equals signs\n",
    "        level = len(re.findall(level_signifier, title_elements[1])) - 1\n",
    "        sentence_data = new_sec(title, level, sentence_data)\n",
    "        if (sentence_data[\"doc_id\"]) >= n_articles:\n",
    "            print(\"stopping early\")\n",
    "            break\n",
    "    elif (line == \"\"):\n",
    "        after_newline = True\n",
    "    else:\n",
    "        after_newline = False\n",
    "        # new paragraph\n",
    "        sentence_data = new_par(sentence_data)\n",
    "        # use nltk to tokenize into sentences\n",
    "        sentences = sent_tokenize(line)\n",
    "        for sentence in sentences:\n",
    "            sentence_data = new_s(sentence_data)\n",
    "            sentences_list.append(deepcopy(sentence_data))"
   ]
  },
  {
   "cell_type": "code",
   "execution_count": 24,
   "metadata": {},
   "outputs": [],
   "source": [
    "df = pd.DataFrame(sentences_list)"
   ]
  },
  {
   "cell_type": "code",
   "execution_count": null,
   "metadata": {},
   "outputs": [],
   "source": [
    "# def a_length(group):\n",
    "#     group[\"a_length\"] = len(np.unique(np.concatenate((group[\"b\"].values, group[\"c\"].values), axis=None)))\n",
    "#     return group\n",
    "    \n",
    "# testy_df = pd.DataFrame({\"a\": [1,1,1,2,3], \"b\": [4,5,6,7,8]})\n",
    "# testy_df[\"c\"] = testy_df.apply(lambda x: x.a + x.b, axis=1).values\n",
    "# testy_df.groupby(\"a\").apply(a_length)"
   ]
  },
  {
   "cell_type": "code",
   "execution_count": 25,
   "metadata": {},
   "outputs": [],
   "source": [
    "# counting\n",
    "# * # sentences in par\n",
    "# * # sentences in doc\n",
    "# * # sentences in sec\n",
    "# * # paragraphs in sec\n",
    "# * # paragraphs in doc\n",
    "# * # secs in doc\n",
    "\n",
    "def count_x(label, x):\n",
    "    def labeled_length(group):\n",
    "        group[label] = len(np.unique((group[x].values)))\n",
    "        return group\n",
    "    return labeled_length\n",
    "\n",
    "df = df.groupby(\"par_id\").apply(count_x(\"n_s_in_par\", \"s_id\"))\n",
    "df = df.groupby(\"sec_id\").apply(count_x(\"n_s_in_sec\", \"s_id\"))\n",
    "df = df.groupby(\"sec_id\").apply(count_x(\"n_par_in_sec\", \"par_id\"))\n",
    "df = df.groupby(\"doc_id\").apply(count_x(\"n_s_in_doc\", \"s_id\"))\n",
    "df = df.groupby(\"doc_id\").apply(count_x(\"n_par_in_doc\", \"par_id\"))\n",
    "df = df.groupby(\"doc_id\").apply(count_x(\"n_sec_in_doc\", \"sec_id\"))"
   ]
  },
  {
   "cell_type": "code",
   "execution_count": 26,
   "metadata": {},
   "outputs": [],
   "source": [
    "df.to_csv(output_data_file)"
   ]
  },
  {
   "cell_type": "markdown",
   "metadata": {},
   "source": [
    "```\n",
    "jupyter nbconvert --to script read_data.ipynb\n",
    "```"
   ]
  },
  {
   "cell_type": "code",
   "execution_count": null,
   "metadata": {},
   "outputs": [],
   "source": []
  },
  {
   "cell_type": "code",
   "execution_count": null,
   "metadata": {},
   "outputs": [],
   "source": []
  }
 ],
 "metadata": {
  "kernelspec": {
   "display_name": "Python [conda env:dod]",
   "language": "python",
   "name": "conda-env-dod-py"
  },
  "language_info": {
   "codemirror_mode": {
    "name": "ipython",
    "version": 3
   },
   "file_extension": ".py",
   "mimetype": "text/x-python",
   "name": "python",
   "nbconvert_exporter": "python",
   "pygments_lexer": "ipython3",
   "version": "3.6.7"
  }
 },
 "nbformat": 4,
 "nbformat_minor": 2
}
