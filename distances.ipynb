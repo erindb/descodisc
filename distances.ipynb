{
 "cells": [
  {
   "cell_type": "code",
   "execution_count": 1,
   "metadata": {},
   "outputs": [],
   "source": [
    "import itertools\n",
    "import pandas as pd\n",
    "import numpy as np\n",
    "from sklearn.metrics.pairwise import cosine_similarity\n",
    "from sklearn.utils.extmath import cartesian"
   ]
  },
  {
   "cell_type": "code",
   "execution_count": null,
   "metadata": {},
   "outputs": [],
   "source": [
    "import argparse\n",
    "parser = argparse.ArgumentParser(description='Process some integers.')\n",
    "parser.add_argument('-f') # jupyter\n",
    "parser.add_argument('--n_documents', type=int, default=10,\n",
    "                   help='number of documents to collect data for')\n",
    "args = parser.parse_args()\n",
    "n_articles = args.n_documents"
   ]
  },
  {
   "cell_type": "markdown",
   "metadata": {},
   "source": [
    "# Distances between sentences"
   ]
  },
  {
   "cell_type": "code",
   "execution_count": 3,
   "metadata": {},
   "outputs": [],
   "source": [
    "# load embeddings and metadata and\n",
    "# compute distances between sentences\n",
    "def get_distances(model, dataset):\n",
    "    n_articles = 100\n",
    "    input_matrix_file = \"data/%s/%s_%s_%d.npy\" %(dataset, dataset, model, n_articles)\n",
    "    input_data_file = \"data/%s/%s_reformatted_%d.csv\" %(dataset, dataset, n_articles)\n",
    "    # load data\n",
    "    df = pd.read_csv(input_data_file)\n",
    "    # load embeddings\n",
    "    embeddings = np.load(input_matrix_file)\n",
    "    distances = 1 - cosine_similarity(embeddings, embeddings)\n",
    "    displacements = embeddings[1:] - embeddings[:-1]\n",
    "    return df, distances, displacements\n",
    "\n",
    "df, distances, displacements = get_distances(\"skipthoughts\", \"wiki\")"
   ]
  },
  {
   "cell_type": "markdown",
   "metadata": {},
   "source": [
    "## Distances between not (necessarily) adjacent sentences\n",
    "\n",
    "How similar do sentences from the same document tend to be? How similar do sentences from different documents tend to be?\n",
    "\n",
    "The similarity due to being in the same document gives us some sense of overall topic similarity.\n",
    "\n",
    "Take any two unique sentences in the dataset, either from the same document or different documents, and measure the distance between them."
   ]
  },
  {
   "cell_type": "code",
   "execution_count": 4,
   "metadata": {},
   "outputs": [
    {
     "data": {
      "text/html": [
       "<div>\n",
       "<style scoped>\n",
       "    .dataframe tbody tr th:only-of-type {\n",
       "        vertical-align: middle;\n",
       "    }\n",
       "\n",
       "    .dataframe tbody tr th {\n",
       "        vertical-align: top;\n",
       "    }\n",
       "\n",
       "    .dataframe thead th {\n",
       "        text-align: right;\n",
       "    }\n",
       "</style>\n",
       "<table border=\"1\" class=\"dataframe\">\n",
       "  <thead>\n",
       "    <tr style=\"text-align: right;\">\n",
       "      <th></th>\n",
       "      <th>distance</th>\n",
       "    </tr>\n",
       "    <tr>\n",
       "      <th>pair_type</th>\n",
       "      <th></th>\n",
       "    </tr>\n",
       "  </thead>\n",
       "  <tbody>\n",
       "    <tr>\n",
       "      <th>Different Document</th>\n",
       "      <td>0.374515</td>\n",
       "    </tr>\n",
       "    <tr>\n",
       "      <th>Same Document</th>\n",
       "      <td>0.344122</td>\n",
       "    </tr>\n",
       "  </tbody>\n",
       "</table>\n",
       "</div>"
      ],
      "text/plain": [
       "                    distance\n",
       "pair_type                   \n",
       "Different Document  0.374515\n",
       "Same Document       0.344122"
      ]
     },
     "execution_count": 4,
     "metadata": {},
     "output_type": "execute_result"
    }
   ],
   "source": [
    "def get_same_doc_mask(df, distances):\n",
    "    # pairs of indices\n",
    "    product = cartesian((df.doc_id,df.doc_id))\n",
    "    # are they in the same document?\n",
    "    same_doc_mask = product[:,0] == product[:,1]\n",
    "    same_doc_mask.shape = distances.shape\n",
    "    return same_doc_mask\n",
    "\n",
    "def within_vs_across_docs(df):\n",
    "    # pairs of indices\n",
    "    product = cartesian((df.doc_id,df.doc_id))\n",
    "    # are they in the same document?\n",
    "    same_doc_mask = get_same_doc_mask(df, distances)\n",
    "    # mask by whether distances are in the same document\n",
    "    same_doc_distances = distances[same_doc_mask]\n",
    "    diff_doc_distances = distances[np.invert(same_doc_mask)]\n",
    "    # create dataframe\n",
    "    pair_types = ([\"Same Document\" for i in range(len(same_doc_distances))] +\n",
    "                  [\"Different Document\" for i in range(len(diff_doc_distances))])\n",
    "    doc_dist_df = pd.DataFrame({\"pair_type\": pair_types,\n",
    "                                \"distance\": np.concatenate((same_doc_distances,\n",
    "                                                            diff_doc_distances), axis=None)})\n",
    "    # get means\n",
    "    doc_dist_means = doc_dist_df.groupby(\"pair_type\").mean()\n",
    "    return doc_dist_means, doc_dist_df\n",
    "\n",
    "doc_dist_means, doc_dist_df = within_vs_across_docs(df)\n",
    "doc_dist_means"
   ]
  },
  {
   "cell_type": "markdown",
   "metadata": {},
   "source": [
    "## Distances between adjacent sentences\n",
    "\n",
    "Here's where we start talking about trajectories, at least to some extent. What's the pacing throughout the discourse? When do we make bigger or smaller moves through sentence vector space?\n",
    "\n",
    "Position in the paragraph might affect the distance between adjacent sentences:\n",
    "* accross a paragraph boundary (last of one paragraph, first of next)\n",
    "* paragraph-internal\n",
    "* first two sentences\n",
    "* last two sentences"
   ]
  },
  {
   "cell_type": "code",
   "execution_count": 5,
   "metadata": {},
   "outputs": [
    {
     "data": {
      "text/html": [
       "<div>\n",
       "<style scoped>\n",
       "    .dataframe tbody tr th:only-of-type {\n",
       "        vertical-align: middle;\n",
       "    }\n",
       "\n",
       "    .dataframe tbody tr th {\n",
       "        vertical-align: top;\n",
       "    }\n",
       "\n",
       "    .dataframe thead th {\n",
       "        text-align: right;\n",
       "    }\n",
       "</style>\n",
       "<table border=\"1\" class=\"dataframe\">\n",
       "  <thead>\n",
       "    <tr style=\"text-align: right;\">\n",
       "      <th></th>\n",
       "      <th>distance</th>\n",
       "    </tr>\n",
       "    <tr>\n",
       "      <th>pair_type</th>\n",
       "      <th></th>\n",
       "    </tr>\n",
       "  </thead>\n",
       "  <tbody>\n",
       "    <tr>\n",
       "      <th>Across Paragraphs</th>\n",
       "      <td>0.332698</td>\n",
       "    </tr>\n",
       "    <tr>\n",
       "      <th>Within Paragraph</th>\n",
       "      <td>0.276481</td>\n",
       "    </tr>\n",
       "  </tbody>\n",
       "</table>\n",
       "</div>"
      ],
      "text/plain": [
       "                   distance\n",
       "pair_type                  \n",
       "Across Paragraphs  0.332698\n",
       "Within Paragraph   0.276481"
      ]
     },
     "execution_count": 5,
     "metadata": {},
     "output_type": "execute_result"
    }
   ],
   "source": [
    "def get_same_par_mask(df, distances):\n",
    "    # pairs of indices\n",
    "    product = cartesian((df.par_id,df.par_id))\n",
    "    # are they in the same document?\n",
    "    same_doc_mask = product[:,0] == product[:,1]\n",
    "    same_doc_mask.shape = distances.shape\n",
    "    return same_doc_mask\n",
    "\n",
    "def get_first_mask(df, distances):\n",
    "    # pairs of indices\n",
    "    product = cartesian((df.s_in_par,df.s_in_par))\n",
    "    # are they first?\n",
    "    first_mask = product[:,0] == 0\n",
    "    first_mask.shape = distances.shape\n",
    "    return first_mask\n",
    "\n",
    "def is_last_in_par(i, df):\n",
    "    if (i == (df.shape[0]-1)):\n",
    "        return True\n",
    "    else:\n",
    "        # next sentence is a different paragraph\n",
    "        return df.par_id[i+1] != df.par_id[i]\n",
    "    \n",
    "def get_last_mask(df, distances):\n",
    "    product = cartesian((df.s_id,df.s_id))\n",
    "    last_mask = np.array([is_last_in_par(i, df) for i in product[:,1]])\n",
    "    last_mask.shape = distances.shape\n",
    "    return last_mask\n",
    "\n",
    "def within_vs_across_par(df, distances, details = False):\n",
    "    product = cartesian((df.s_id,df.s_id))\n",
    "    adjacent = (product[:,1] - product[:,0]) == 1\n",
    "    adjacent.shape = distances.shape\n",
    "    \n",
    "    # mask to get adjacent sentences in the same document\n",
    "    adjacent = np.multiply(get_same_doc_mask(df, distances), adjacent)\n",
    "    \n",
    "    # mask to get adjacent sentences in the same paragraph\n",
    "    same_par_mask = get_same_par_mask(df, distances)\n",
    "    within_par_mask = np.multiply(same_par_mask, adjacent)\n",
    "    within_par_distances = distances[within_par_mask == 1]\n",
    "    across_par_mask = np.multiply(1 - same_par_mask, adjacent)\n",
    "    across_par_distances = distances[across_par_mask == 1]\n",
    "    \n",
    "    # TODO make this more faster\n",
    "    if (details):\n",
    "    \n",
    "        # mask to get adjacent sentences in the same paragraph:\n",
    "        #     - at the beginning of the paragraph\n",
    "        #     - in the middle of the paragraph\n",
    "        #     - at the end of the paragraph\n",
    "        first_mask = get_first_mask(df, distances)\n",
    "        last_mask = get_last_mask(df, distances)\n",
    "        internal_mask = (1 - (first_mask + last_mask))\n",
    "        first_mask = np.multiply(first_mask, within_par_mask)\n",
    "        internal_mask = np.multiply(internal_mask, within_par_mask)\n",
    "        last_mask = np.multiply(last_mask, within_par_mask)\n",
    "        first_distances = distances[first_mask == 1]\n",
    "        internal_distances = distances[internal_mask == 1]\n",
    "        last_distances = distances[last_mask == 1]\n",
    "        \n",
    "        pair_types = ([\"Within Paragraph (First)\" for i in range(len(first_distances))] +\n",
    "                      [\"Within Paragraph (Internal)\" for i in range(len(internal_distances))] +\n",
    "                      [\"Within Paragraph (Last)\" for i in range(len(last_distances))] +\n",
    "                      [\"Across Paragraphs\" for i in range(len(across_par_distances))])\n",
    "        distances = np.concatenate((first_distances,\n",
    "                                    internal_distances,\n",
    "                                    last_distances,\n",
    "                                    across_par_distances), axis=None)\n",
    "    else:\n",
    "        pair_types = ([\"Within Paragraph\" for i in range(len(within_par_distances))] +\n",
    "                      [\"Across Paragraphs\" for i in range(len(across_par_distances))])\n",
    "        distances = np.concatenate((within_par_distances, across_par_distances), axis=None)\n",
    "\n",
    "    # create dataframe\n",
    "    par_dist_df = pd.DataFrame({\"pair_type\": pair_types,\n",
    "                                \"distance\": distances})\n",
    "    # get means\n",
    "    par_dist_means = par_dist_df.groupby(\"pair_type\").mean()\n",
    "    \n",
    "    return par_dist_means, par_dist_df\n",
    "\n",
    "par_dist_means, par_dist_df = within_vs_across_par(df, distances)\n",
    "par_dist_means"
   ]
  },
  {
   "cell_type": "code",
   "execution_count": 6,
   "metadata": {},
   "outputs": [
    {
     "ename": "KeyboardInterrupt",
     "evalue": "",
     "output_type": "error",
     "traceback": [
      "\u001b[0;31m---------------------------------------------------------------------------\u001b[0m",
      "\u001b[0;31mKeyboardInterrupt\u001b[0m                         Traceback (most recent call last)",
      "\u001b[0;32m<ipython-input-6-cc5d23408ba6>\u001b[0m in \u001b[0;36m<module>\u001b[0;34m\u001b[0m\n\u001b[1;32m      4\u001b[0m \u001b[0;31m#     - last two sentences\u001b[0m\u001b[0;34m\u001b[0m\u001b[0;34m\u001b[0m\u001b[0m\n\u001b[1;32m      5\u001b[0m \u001b[0;34m\u001b[0m\u001b[0m\n\u001b[0;32m----> 6\u001b[0;31m \u001b[0mpar_details_dist_means\u001b[0m\u001b[0;34m,\u001b[0m \u001b[0mpar_details_dist_df\u001b[0m \u001b[0;34m=\u001b[0m \u001b[0mwithin_vs_across_par\u001b[0m\u001b[0;34m(\u001b[0m\u001b[0mdf\u001b[0m\u001b[0;34m,\u001b[0m \u001b[0mdistances\u001b[0m\u001b[0;34m,\u001b[0m \u001b[0mdetails\u001b[0m \u001b[0;34m=\u001b[0m \u001b[0;32mTrue\u001b[0m\u001b[0;34m)\u001b[0m\u001b[0;34m\u001b[0m\u001b[0m\n\u001b[0m\u001b[1;32m      7\u001b[0m \u001b[0mpar_details_dist_means\u001b[0m\u001b[0;34m\u001b[0m\u001b[0m\n",
      "\u001b[0;32m<ipython-input-5-1d21feebe141>\u001b[0m in \u001b[0;36mwithin_vs_across_par\u001b[0;34m(df, distances, details)\u001b[0m\n\u001b[1;32m     50\u001b[0m         \u001b[0;31m#     - at the end of the paragraph\u001b[0m\u001b[0;34m\u001b[0m\u001b[0;34m\u001b[0m\u001b[0m\n\u001b[1;32m     51\u001b[0m         \u001b[0mfirst_mask\u001b[0m \u001b[0;34m=\u001b[0m \u001b[0mget_first_mask\u001b[0m\u001b[0;34m(\u001b[0m\u001b[0mdf\u001b[0m\u001b[0;34m,\u001b[0m \u001b[0mdistances\u001b[0m\u001b[0;34m)\u001b[0m\u001b[0;34m\u001b[0m\u001b[0m\n\u001b[0;32m---> 52\u001b[0;31m         \u001b[0mlast_mask\u001b[0m \u001b[0;34m=\u001b[0m \u001b[0mget_last_mask\u001b[0m\u001b[0;34m(\u001b[0m\u001b[0mdf\u001b[0m\u001b[0;34m,\u001b[0m \u001b[0mdistances\u001b[0m\u001b[0;34m)\u001b[0m\u001b[0;34m\u001b[0m\u001b[0m\n\u001b[0m\u001b[1;32m     53\u001b[0m         \u001b[0minternal_mask\u001b[0m \u001b[0;34m=\u001b[0m \u001b[0;34m(\u001b[0m\u001b[0;36m1\u001b[0m \u001b[0;34m-\u001b[0m \u001b[0;34m(\u001b[0m\u001b[0mfirst_mask\u001b[0m \u001b[0;34m+\u001b[0m \u001b[0mlast_mask\u001b[0m\u001b[0;34m)\u001b[0m\u001b[0;34m)\u001b[0m\u001b[0;34m\u001b[0m\u001b[0m\n\u001b[1;32m     54\u001b[0m         \u001b[0mfirst_mask\u001b[0m \u001b[0;34m=\u001b[0m \u001b[0mnp\u001b[0m\u001b[0;34m.\u001b[0m\u001b[0mmultiply\u001b[0m\u001b[0;34m(\u001b[0m\u001b[0mfirst_mask\u001b[0m\u001b[0;34m,\u001b[0m \u001b[0mwithin_par_mask\u001b[0m\u001b[0;34m)\u001b[0m\u001b[0;34m\u001b[0m\u001b[0m\n",
      "\u001b[0;32m<ipython-input-5-1d21feebe141>\u001b[0m in \u001b[0;36mget_last_mask\u001b[0;34m(df, distances)\u001b[0m\n\u001b[1;32m     24\u001b[0m \u001b[0;32mdef\u001b[0m \u001b[0mget_last_mask\u001b[0m\u001b[0;34m(\u001b[0m\u001b[0mdf\u001b[0m\u001b[0;34m,\u001b[0m \u001b[0mdistances\u001b[0m\u001b[0;34m)\u001b[0m\u001b[0;34m:\u001b[0m\u001b[0;34m\u001b[0m\u001b[0m\n\u001b[1;32m     25\u001b[0m     \u001b[0mproduct\u001b[0m \u001b[0;34m=\u001b[0m \u001b[0mcartesian\u001b[0m\u001b[0;34m(\u001b[0m\u001b[0;34m(\u001b[0m\u001b[0mdf\u001b[0m\u001b[0;34m.\u001b[0m\u001b[0ms_id\u001b[0m\u001b[0;34m,\u001b[0m\u001b[0mdf\u001b[0m\u001b[0;34m.\u001b[0m\u001b[0ms_id\u001b[0m\u001b[0;34m)\u001b[0m\u001b[0;34m)\u001b[0m\u001b[0;34m\u001b[0m\u001b[0m\n\u001b[0;32m---> 26\u001b[0;31m     \u001b[0mlast_mask\u001b[0m \u001b[0;34m=\u001b[0m \u001b[0mnp\u001b[0m\u001b[0;34m.\u001b[0m\u001b[0marray\u001b[0m\u001b[0;34m(\u001b[0m\u001b[0;34m[\u001b[0m\u001b[0mis_last_in_par\u001b[0m\u001b[0;34m(\u001b[0m\u001b[0mi\u001b[0m\u001b[0;34m,\u001b[0m \u001b[0mdf\u001b[0m\u001b[0;34m)\u001b[0m \u001b[0;32mfor\u001b[0m \u001b[0mi\u001b[0m \u001b[0;32min\u001b[0m \u001b[0mproduct\u001b[0m\u001b[0;34m[\u001b[0m\u001b[0;34m:\u001b[0m\u001b[0;34m,\u001b[0m\u001b[0;36m1\u001b[0m\u001b[0;34m]\u001b[0m\u001b[0;34m]\u001b[0m\u001b[0;34m)\u001b[0m\u001b[0;34m\u001b[0m\u001b[0m\n\u001b[0m\u001b[1;32m     27\u001b[0m     \u001b[0mlast_mask\u001b[0m\u001b[0;34m.\u001b[0m\u001b[0mshape\u001b[0m \u001b[0;34m=\u001b[0m \u001b[0mdistances\u001b[0m\u001b[0;34m.\u001b[0m\u001b[0mshape\u001b[0m\u001b[0;34m\u001b[0m\u001b[0m\n\u001b[1;32m     28\u001b[0m     \u001b[0;32mreturn\u001b[0m \u001b[0mlast_mask\u001b[0m\u001b[0;34m\u001b[0m\u001b[0m\n",
      "\u001b[0;32m<ipython-input-5-1d21feebe141>\u001b[0m in \u001b[0;36m<listcomp>\u001b[0;34m(.0)\u001b[0m\n\u001b[1;32m     24\u001b[0m \u001b[0;32mdef\u001b[0m \u001b[0mget_last_mask\u001b[0m\u001b[0;34m(\u001b[0m\u001b[0mdf\u001b[0m\u001b[0;34m,\u001b[0m \u001b[0mdistances\u001b[0m\u001b[0;34m)\u001b[0m\u001b[0;34m:\u001b[0m\u001b[0;34m\u001b[0m\u001b[0m\n\u001b[1;32m     25\u001b[0m     \u001b[0mproduct\u001b[0m \u001b[0;34m=\u001b[0m \u001b[0mcartesian\u001b[0m\u001b[0;34m(\u001b[0m\u001b[0;34m(\u001b[0m\u001b[0mdf\u001b[0m\u001b[0;34m.\u001b[0m\u001b[0ms_id\u001b[0m\u001b[0;34m,\u001b[0m\u001b[0mdf\u001b[0m\u001b[0;34m.\u001b[0m\u001b[0ms_id\u001b[0m\u001b[0;34m)\u001b[0m\u001b[0;34m)\u001b[0m\u001b[0;34m\u001b[0m\u001b[0m\n\u001b[0;32m---> 26\u001b[0;31m     \u001b[0mlast_mask\u001b[0m \u001b[0;34m=\u001b[0m \u001b[0mnp\u001b[0m\u001b[0;34m.\u001b[0m\u001b[0marray\u001b[0m\u001b[0;34m(\u001b[0m\u001b[0;34m[\u001b[0m\u001b[0mis_last_in_par\u001b[0m\u001b[0;34m(\u001b[0m\u001b[0mi\u001b[0m\u001b[0;34m,\u001b[0m \u001b[0mdf\u001b[0m\u001b[0;34m)\u001b[0m \u001b[0;32mfor\u001b[0m \u001b[0mi\u001b[0m \u001b[0;32min\u001b[0m \u001b[0mproduct\u001b[0m\u001b[0;34m[\u001b[0m\u001b[0;34m:\u001b[0m\u001b[0;34m,\u001b[0m\u001b[0;36m1\u001b[0m\u001b[0;34m]\u001b[0m\u001b[0;34m]\u001b[0m\u001b[0;34m)\u001b[0m\u001b[0;34m\u001b[0m\u001b[0m\n\u001b[0m\u001b[1;32m     27\u001b[0m     \u001b[0mlast_mask\u001b[0m\u001b[0;34m.\u001b[0m\u001b[0mshape\u001b[0m \u001b[0;34m=\u001b[0m \u001b[0mdistances\u001b[0m\u001b[0;34m.\u001b[0m\u001b[0mshape\u001b[0m\u001b[0;34m\u001b[0m\u001b[0m\n\u001b[1;32m     28\u001b[0m     \u001b[0;32mreturn\u001b[0m \u001b[0mlast_mask\u001b[0m\u001b[0;34m\u001b[0m\u001b[0m\n",
      "\u001b[0;32m<ipython-input-5-1d21feebe141>\u001b[0m in \u001b[0;36mis_last_in_par\u001b[0;34m(i, df)\u001b[0m\n\u001b[1;32m     20\u001b[0m     \u001b[0;32melse\u001b[0m\u001b[0;34m:\u001b[0m\u001b[0;34m\u001b[0m\u001b[0m\n\u001b[1;32m     21\u001b[0m         \u001b[0;31m# next sentence is a different paragraph\u001b[0m\u001b[0;34m\u001b[0m\u001b[0;34m\u001b[0m\u001b[0m\n\u001b[0;32m---> 22\u001b[0;31m         \u001b[0;32mreturn\u001b[0m \u001b[0mdf\u001b[0m\u001b[0;34m.\u001b[0m\u001b[0mpar_id\u001b[0m\u001b[0;34m[\u001b[0m\u001b[0mi\u001b[0m\u001b[0;34m+\u001b[0m\u001b[0;36m1\u001b[0m\u001b[0;34m]\u001b[0m \u001b[0;34m!=\u001b[0m \u001b[0mdf\u001b[0m\u001b[0;34m.\u001b[0m\u001b[0mpar_id\u001b[0m\u001b[0;34m[\u001b[0m\u001b[0mi\u001b[0m\u001b[0;34m]\u001b[0m\u001b[0;34m\u001b[0m\u001b[0m\n\u001b[0m\u001b[1;32m     23\u001b[0m \u001b[0;34m\u001b[0m\u001b[0m\n\u001b[1;32m     24\u001b[0m \u001b[0;32mdef\u001b[0m \u001b[0mget_last_mask\u001b[0m\u001b[0;34m(\u001b[0m\u001b[0mdf\u001b[0m\u001b[0;34m,\u001b[0m \u001b[0mdistances\u001b[0m\u001b[0;34m)\u001b[0m\u001b[0;34m:\u001b[0m\u001b[0;34m\u001b[0m\u001b[0m\n",
      "\u001b[0;32m~/miniconda2/envs/dod/lib/python3.7/site-packages/pandas/core/series.py\u001b[0m in \u001b[0;36m__getitem__\u001b[0;34m(self, key)\u001b[0m\n\u001b[1;32m    765\u001b[0m         \u001b[0mkey\u001b[0m \u001b[0;34m=\u001b[0m \u001b[0mcom\u001b[0m\u001b[0;34m.\u001b[0m\u001b[0m_apply_if_callable\u001b[0m\u001b[0;34m(\u001b[0m\u001b[0mkey\u001b[0m\u001b[0;34m,\u001b[0m \u001b[0mself\u001b[0m\u001b[0;34m)\u001b[0m\u001b[0;34m\u001b[0m\u001b[0m\n\u001b[1;32m    766\u001b[0m         \u001b[0;32mtry\u001b[0m\u001b[0;34m:\u001b[0m\u001b[0;34m\u001b[0m\u001b[0m\n\u001b[0;32m--> 767\u001b[0;31m             \u001b[0mresult\u001b[0m \u001b[0;34m=\u001b[0m \u001b[0mself\u001b[0m\u001b[0;34m.\u001b[0m\u001b[0mindex\u001b[0m\u001b[0;34m.\u001b[0m\u001b[0mget_value\u001b[0m\u001b[0;34m(\u001b[0m\u001b[0mself\u001b[0m\u001b[0;34m,\u001b[0m \u001b[0mkey\u001b[0m\u001b[0;34m)\u001b[0m\u001b[0;34m\u001b[0m\u001b[0m\n\u001b[0m\u001b[1;32m    768\u001b[0m \u001b[0;34m\u001b[0m\u001b[0m\n\u001b[1;32m    769\u001b[0m             \u001b[0;32mif\u001b[0m \u001b[0;32mnot\u001b[0m \u001b[0mis_scalar\u001b[0m\u001b[0;34m(\u001b[0m\u001b[0mresult\u001b[0m\u001b[0;34m)\u001b[0m\u001b[0;34m:\u001b[0m\u001b[0;34m\u001b[0m\u001b[0m\n",
      "\u001b[0;32m~/miniconda2/envs/dod/lib/python3.7/site-packages/pandas/core/indexes/base.py\u001b[0m in \u001b[0;36mget_value\u001b[0;34m(self, series, key)\u001b[0m\n\u001b[1;32m   3116\u001b[0m         \u001b[0;32mtry\u001b[0m\u001b[0;34m:\u001b[0m\u001b[0;34m\u001b[0m\u001b[0m\n\u001b[1;32m   3117\u001b[0m             return self._engine.get_value(s, k,\n\u001b[0;32m-> 3118\u001b[0;31m                                           tz=getattr(series.dtype, 'tz', None))\n\u001b[0m\u001b[1;32m   3119\u001b[0m         \u001b[0;32mexcept\u001b[0m \u001b[0mKeyError\u001b[0m \u001b[0;32mas\u001b[0m \u001b[0me1\u001b[0m\u001b[0;34m:\u001b[0m\u001b[0;34m\u001b[0m\u001b[0m\n\u001b[1;32m   3120\u001b[0m             \u001b[0;32mif\u001b[0m \u001b[0mlen\u001b[0m\u001b[0;34m(\u001b[0m\u001b[0mself\u001b[0m\u001b[0;34m)\u001b[0m \u001b[0;34m>\u001b[0m \u001b[0;36m0\u001b[0m \u001b[0;32mand\u001b[0m \u001b[0mself\u001b[0m\u001b[0;34m.\u001b[0m\u001b[0minferred_type\u001b[0m \u001b[0;32min\u001b[0m \u001b[0;34m[\u001b[0m\u001b[0;34m'integer'\u001b[0m\u001b[0;34m,\u001b[0m \u001b[0;34m'boolean'\u001b[0m\u001b[0;34m]\u001b[0m\u001b[0;34m:\u001b[0m\u001b[0;34m\u001b[0m\u001b[0m\n",
      "\u001b[0;32m~/miniconda2/envs/dod/lib/python3.7/site-packages/pandas/core/series.py\u001b[0m in \u001b[0;36mdtype\u001b[0;34m(self)\u001b[0m\n\u001b[1;32m    410\u001b[0m \u001b[0;34m\u001b[0m\u001b[0m\n\u001b[1;32m    411\u001b[0m     \u001b[0;31m# ndarray compatibility\u001b[0m\u001b[0;34m\u001b[0m\u001b[0;34m\u001b[0m\u001b[0m\n\u001b[0;32m--> 412\u001b[0;31m     \u001b[0;34m@\u001b[0m\u001b[0mproperty\u001b[0m\u001b[0;34m\u001b[0m\u001b[0m\n\u001b[0m\u001b[1;32m    413\u001b[0m     \u001b[0;32mdef\u001b[0m \u001b[0mdtype\u001b[0m\u001b[0;34m(\u001b[0m\u001b[0mself\u001b[0m\u001b[0;34m)\u001b[0m\u001b[0;34m:\u001b[0m\u001b[0;34m\u001b[0m\u001b[0m\n\u001b[1;32m    414\u001b[0m         \u001b[0;34m\"\"\" return the dtype object of the underlying data \"\"\"\u001b[0m\u001b[0;34m\u001b[0m\u001b[0m\n",
      "\u001b[0;31mKeyboardInterrupt\u001b[0m: "
     ]
    }
   ],
   "source": [
    "# for within paragraph sentences, could be:\n",
    "#     - paragraph-internal\n",
    "#     - first two sentences\n",
    "#     - last two sentences\n",
    "\n",
    "par_details_dist_means, par_details_dist_df = within_vs_across_par(df, distances, details = True)\n",
    "par_details_dist_means"
   ]
  },
  {
   "cell_type": "code",
   "execution_count": null,
   "metadata": {},
   "outputs": [],
   "source": [
    "par_details_dist_df\n",
    "dataset = \"wiki\"\n",
    "model = \"skipthoughts\"\n",
    "distances_matrix_filename = \"data/%s/distances_%s_%s_%d.npy\" %(dataset, dataset, model, n_articles)\n",
    "np.save(distances_matrix_filename, par_details_dist_df)"
   ]
  },
  {
   "cell_type": "markdown",
   "metadata": {},
   "source": [
    "## R visualization"
   ]
  },
  {
   "cell_type": "code",
   "execution_count": 5,
   "metadata": {},
   "outputs": [],
   "source": [
    "# %load_ext rpy2.ipython"
   ]
  },
  {
   "cell_type": "code",
   "execution_count": 6,
   "metadata": {},
   "outputs": [
    {
     "name": "stderr",
     "output_type": "stream",
     "text": [
      "/home/erindb/miniconda2/envs/dod/lib/python3.7/site-packages/rpy2/rinterface/__init__.py:146: RRuntimeWarning: ── \u001b[1mAttaching packages\u001b[22m ─────────────────────────────────────── tidyverse 1.2.1 ──\n",
      "\n",
      "  warnings.warn(x, RRuntimeWarning)\n",
      "/home/erindb/miniconda2/envs/dod/lib/python3.7/site-packages/rpy2/rinterface/__init__.py:146: RRuntimeWarning: \u001b[32m✔\u001b[39m \u001b[34mggplot2\u001b[39m 3.0.0     \u001b[32m✔\u001b[39m \u001b[34mpurrr  \u001b[39m 0.2.5\n",
      "\u001b[32m✔\u001b[39m \u001b[34mtibble \u001b[39m 1.4.2     \u001b[32m✔\u001b[39m \u001b[34mdplyr  \u001b[39m 0.7.6\n",
      "\u001b[32m✔\u001b[39m \u001b[34mtidyr  \u001b[39m 0.8.1     \u001b[32m✔\u001b[39m \u001b[34mstringr\u001b[39m 1.3.1\n",
      "\u001b[32m✔\u001b[39m \u001b[34mreadr  \u001b[39m 1.1.1     \u001b[32m✔\u001b[39m \u001b[34mforcats\u001b[39m 0.3.0\n",
      "\n",
      "  warnings.warn(x, RRuntimeWarning)\n",
      "/home/erindb/miniconda2/envs/dod/lib/python3.7/site-packages/rpy2/rinterface/__init__.py:146: RRuntimeWarning: ── \u001b[1mConflicts\u001b[22m ────────────────────────────────────────── tidyverse_conflicts() ──\n",
      "\u001b[31m✖\u001b[39m \u001b[34mdplyr\u001b[39m::\u001b[32mfilter()\u001b[39m masks \u001b[34mstats\u001b[39m::filter()\n",
      "\u001b[31m✖\u001b[39m \u001b[34mdplyr\u001b[39m::\u001b[32mlag()\u001b[39m    masks \u001b[34mstats\u001b[39m::lag()\n",
      "\n",
      "  warnings.warn(x, RRuntimeWarning)\n",
      "/home/erindb/miniconda2/envs/dod/lib/python3.7/site-packages/rpy2/rinterface/__init__.py:146: RRuntimeWarning: Loading required package: lattice\n",
      "\n",
      "  warnings.warn(x, RRuntimeWarning)\n",
      "/home/erindb/miniconda2/envs/dod/lib/python3.7/site-packages/rpy2/rinterface/__init__.py:146: RRuntimeWarning: Loading required package: survival\n",
      "\n",
      "  warnings.warn(x, RRuntimeWarning)\n",
      "/home/erindb/miniconda2/envs/dod/lib/python3.7/site-packages/rpy2/rinterface/__init__.py:146: RRuntimeWarning: Loading required package: Formula\n",
      "\n",
      "  warnings.warn(x, RRuntimeWarning)\n",
      "/home/erindb/miniconda2/envs/dod/lib/python3.7/site-packages/rpy2/rinterface/__init__.py:146: RRuntimeWarning: \n",
      "Attaching package: ‘Hmisc’\n",
      "\n",
      "\n",
      "  warnings.warn(x, RRuntimeWarning)\n",
      "/home/erindb/miniconda2/envs/dod/lib/python3.7/site-packages/rpy2/rinterface/__init__.py:146: RRuntimeWarning: The following objects are masked from ‘package:dplyr’:\n",
      "\n",
      "    src, summarize\n",
      "\n",
      "\n",
      "  warnings.warn(x, RRuntimeWarning)\n",
      "/home/erindb/miniconda2/envs/dod/lib/python3.7/site-packages/rpy2/rinterface/__init__.py:146: RRuntimeWarning: The following objects are masked from ‘package:base’:\n",
      "\n",
      "    format.pval, units\n",
      "\n",
      "\n",
      "  warnings.warn(x, RRuntimeWarning)\n"
     ]
    }
   ],
   "source": [
    "# %%R\n",
    "# library(tidyverse)\n",
    "# library(Hmisc)\n",
    "# library(ggthemes)"
   ]
  },
  {
   "cell_type": "code",
   "execution_count": 7,
   "metadata": {},
   "outputs": [
    {
     "name": "stderr",
     "output_type": "stream",
     "text": [
      "/home/erindb/miniconda2/envs/dod/lib/python3.7/site-packages/rpy2/robjects/pandas2ri.py:191: FutureWarning: from_items is deprecated. Please use DataFrame.from_dict(dict(items), ...) instead. DataFrame.from_dict(OrderedDict(items)) may be used to preserve the key order.\n",
      "  res = PandasDataFrame.from_items(items)\n"
     ]
    },
    {
     "data": {
      "text/plain": [
       "                    distance\n",
       "Different Document 0.4210159\n",
       "Same Document      0.3948175\n"
      ]
     },
     "metadata": {},
     "output_type": "display_data"
    }
   ],
   "source": [
    "# %%R -i doc_dist_means\n",
    "# doc_dist_means"
   ]
  },
  {
   "cell_type": "code",
   "execution_count": 8,
   "metadata": {},
   "outputs": [
    {
     "name": "stderr",
     "output_type": "stream",
     "text": [
      "/home/erindb/miniconda2/envs/dod/lib/python3.7/site-packages/rpy2/rinterface/__init__.py:146: RRuntimeWarning: Saving 4.17 x 2.78 in image\n",
      "\n",
      "  warnings.warn(x, RRuntimeWarning)\n"
     ]
    },
    {
     "data": {
      "image/png": "[encoded data removed]"
     },
     "metadata": {},
     "output_type": "display_data"
    }
   ],
   "source": [
    "# %%R -i doc_dist_df -w 300 -h 200 -u px\n",
    "# p = doc_dist_df %>%\n",
    "# ggplot(aes(x = pair_type, y = distance)) +\n",
    "# stat_summary(fun.y = mean, geom = \"bar\", fill = \"gray\", colour = \"black\") +\n",
    "# stat_summary(fun.data = mean_cl_boot, geom = \"errorbar\", colour=\"black\", width = 0.1) +\n",
    "# ylab(\"Cosine Distance\") +\n",
    "# xlab(\"Sentence Pair\") +\n",
    "# theme_few(12)\n",
    "# print(p)\n",
    "# ggsave(\"within_vs_across_documents.png\")"
   ]
  },
  {
   "cell_type": "code",
   "execution_count": 9,
   "metadata": {},
   "outputs": [
    {
     "name": "stderr",
     "output_type": "stream",
     "text": [
      "/home/erindb/miniconda2/envs/dod/lib/python3.7/site-packages/rpy2/rinterface/__init__.py:146: RRuntimeWarning: Saving 2.78 x 2.78 in image\n",
      "\n",
      "  warnings.warn(x, RRuntimeWarning)\n"
     ]
    },
    {
     "data": {
      "image/png": "[encoded data removed]"
     },
     "metadata": {},
     "output_type": "display_data"
    }
   ],
   "source": [
    "# %%R -i par_dist_df -w 200 -h 200 -u px\n",
    "# p = par_dist_df %>%\n",
    "# ggplot(., aes(x = pair_type, y = distance)) +\n",
    "# geom_hline(yintercept = doc_dist_means[\"Different Document\", \"distance\"], colour=\"gray\") +\n",
    "# geom_hline(yintercept = doc_dist_means[\"Same Document\", \"distance\"], colour=\"gray\") +\n",
    "# stat_summary(fun.y = mean, geom = \"bar\", fill=\"gray\", colour=\"black\") +\n",
    "# stat_summary(fun.data = mean_cl_boot,\n",
    "#              geom = \"errorbar\",\n",
    "#              colour=\"black\",\n",
    "#              width=0.1) +\n",
    "# ylab(\"Cosine Distance\") +\n",
    "# xlab(\"Sentence Pair\") +\n",
    "# theme_few(10)\n",
    "# print(p)\n",
    "# ggsave(\"adjacent_sentences_within_and_across_paragraphs.png\")"
   ]
  },
  {
   "cell_type": "code",
   "execution_count": 21,
   "metadata": {},
   "outputs": [
    {
     "name": "stderr",
     "output_type": "stream",
     "text": [
      "/home/erindb/miniconda2/envs/dod/lib/python3.7/site-packages/rpy2/rinterface/__init__.py:146: RRuntimeWarning: Saving 5.56 x 2.78 in image\n",
      "\n",
      "  warnings.warn(x, RRuntimeWarning)\n"
     ]
    },
    {
     "data": {
      "image/png": "[encoded data removed]"
     },
     "metadata": {},
     "output_type": "display_data"
    }
   ],
   "source": [
    "# %%R -i par_details_dist_df -w 400 -h 200 -u px\n",
    "# p = par_details_dist_df %>%\n",
    "# ggplot(., aes(x = pair_type, y = distance)) +\n",
    "# geom_hline(yintercept = doc_dist_means[\"Different Document\", \"distance\"], colour=\"gray\") +\n",
    "# geom_hline(yintercept = doc_dist_means[\"Same Document\", \"distance\"], colour=\"gray\") +\n",
    "# stat_summary(fun.y = mean, geom = \"bar\", fill=\"gray\", colour=\"black\") +\n",
    "# stat_summary(fun.data = mean_cl_boot,\n",
    "#              geom = \"errorbar\",\n",
    "#              colour=\"black\",\n",
    "#              width=0.1) +\n",
    "# ylab(\"Cosine Distance\") +\n",
    "# xlab(\"Sentence Pair\") +\n",
    "# theme_few(10)\n",
    "# print(p)\n",
    "# ggsave(\"adjacent_sentences_more_details.png\")"
   ]
  },
  {
   "cell_type": "code",
   "execution_count": null,
   "metadata": {},
   "outputs": [],
   "source": []
  }
 ],
 "metadata": {
  "kernelspec": {
   "display_name": "Python [conda env:dod]",
   "language": "python",
   "name": "conda-env-dod-py"
  },
  "language_info": {
   "codemirror_mode": {
    "name": "ipython",
    "version": 3
   },
   "file_extension": ".py",
   "mimetype": "text/x-python",
   "name": "python",
   "nbconvert_exporter": "python",
   "pygments_lexer": "ipython3",
   "version": "3.7.0"
  }
 },
 "nbformat": 4,
 "nbformat_minor": 2
}
