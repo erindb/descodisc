{
 "cells": [
  {
   "cell_type": "code",
   "execution_count": 80,
   "metadata": {},
   "outputs": [],
   "source": [
    "import itertools\n",
    "import pandas as pd\n",
    "import numpy as np\n",
    "from sklearn.metrics.pairwise import cosine_similarity\n",
    "from sklearn.utils.extmath import cartesian\n",
    "from scipy.linalg import block_diag\n",
    "from sys import exit"
   ]
  },
  {
   "cell_type": "code",
   "execution_count": 81,
   "metadata": {},
   "outputs": [],
   "source": [
    "import argparse\n",
    "parser = argparse.ArgumentParser(description='Process some integers.')\n",
    "parser.add_argument('-f') # jupyter\n",
    "parser.add_argument('--n_documents', type=int, default=10,\n",
    "                   help='number of documents to collect data for')\n",
    "args = parser.parse_args()\n",
    "n_articles = args.n_documents"
   ]
  },
  {
   "cell_type": "code",
   "execution_count": 82,
   "metadata": {},
   "outputs": [],
   "source": [
    "# n_articles = 100"
   ]
  },
  {
   "cell_type": "code",
   "execution_count": 83,
   "metadata": {},
   "outputs": [
    {
     "name": "stdout",
     "output_type": "stream",
     "text": [
      "The rpy2.ipython extension is already loaded. To reload it, use:\n",
      "  %reload_ext rpy2.ipython\n"
     ]
    }
   ],
   "source": [
    "%load_ext rpy2.ipython"
   ]
  },
  {
   "cell_type": "code",
   "execution_count": 84,
   "metadata": {},
   "outputs": [],
   "source": [
    "%%R -i n_articles\n",
    "library(tidyverse)\n",
    "library(Hmisc)\n",
    "library(ggthemes)"
   ]
  },
  {
   "cell_type": "markdown",
   "metadata": {},
   "source": [
    "# Distances between sentences"
   ]
  },
  {
   "cell_type": "code",
   "execution_count": 85,
   "metadata": {},
   "outputs": [],
   "source": [
    "# load embeddings and metadata and\n",
    "# compute distances between sentences\n",
    "def get_distances(model, dataset):\n",
    "    input_matrix_file = \"data/%s/%s_%s_%d.npy\" %(dataset, dataset, model, n_articles)\n",
    "    input_data_file = \"data/%s/%s_reformatted_%d.csv\" %(dataset, dataset, n_articles)\n",
    "    # load data\n",
    "    df = pd.read_csv(input_data_file)\n",
    "    # load embeddings\n",
    "    embeddings = np.load(input_matrix_file)\n",
    "    distances = 1 - cosine_similarity(embeddings)\n",
    "    displacements = embeddings[1:] - embeddings[:-1]\n",
    "    return df, distances, displacements\n",
    "\n",
    "df, distances, displacements = get_distances(\"skipthoughts\", \"wiki\")"
   ]
  },
  {
   "cell_type": "markdown",
   "metadata": {},
   "source": [
    "## Within vs across documents\n",
    "\n",
    "How similar do sentences from the same document tend to be? How similar do sentences from different documents tend to be?\n",
    "\n",
    "The similarity due to being in the same document gives us some sense of overall topic similarity.\n",
    "\n",
    "Take any two unique sentences in the dataset, either from the same document or different documents, and measure the distance between them."
   ]
  },
  {
   "cell_type": "code",
   "execution_count": 86,
   "metadata": {},
   "outputs": [
    {
     "data": {
      "text/plain": [
       "(13845, 13845)"
      ]
     },
     "execution_count": 86,
     "metadata": {},
     "output_type": "execute_result"
    }
   ],
   "source": [
    "distances.shape"
   ]
  },
  {
   "cell_type": "code",
   "execution_count": 88,
   "metadata": {},
   "outputs": [
    {
     "data": {
      "text/html": [
       "<div>\n",
       "<style scoped>\n",
       "    .dataframe tbody tr th:only-of-type {\n",
       "        vertical-align: middle;\n",
       "    }\n",
       "\n",
       "    .dataframe tbody tr th {\n",
       "        vertical-align: top;\n",
       "    }\n",
       "\n",
       "    .dataframe thead th {\n",
       "        text-align: right;\n",
       "    }\n",
       "</style>\n",
       "<table border=\"1\" class=\"dataframe\">\n",
       "  <thead>\n",
       "    <tr style=\"text-align: right;\">\n",
       "      <th></th>\n",
       "      <th>distance</th>\n",
       "    </tr>\n",
       "    <tr>\n",
       "      <th>pair_type</th>\n",
       "      <th></th>\n",
       "    </tr>\n",
       "  </thead>\n",
       "  <tbody>\n",
       "    <tr>\n",
       "      <th>Different Document</th>\n",
       "      <td>0.374515</td>\n",
       "    </tr>\n",
       "    <tr>\n",
       "      <th>Same Document</th>\n",
       "      <td>0.345712</td>\n",
       "    </tr>\n",
       "  </tbody>\n",
       "</table>\n",
       "</div>"
      ],
      "text/plain": [
       "                    distance\n",
       "pair_type                   \n",
       "Different Document  0.374515\n",
       "Same Document       0.345712"
      ]
     },
     "execution_count": 88,
     "metadata": {},
     "output_type": "execute_result"
    }
   ],
   "source": [
    "def make_block(N):\n",
    "    x = np.ones((N, N), dtype=bool)\n",
    "    return x\n",
    "\n",
    "# computing mask should be at least as fast as cosine similarity, right?\n",
    "# it is, at least for 100 docs\n",
    "def get_doc_masks(df, distances, mask_id=\"doc_id\", diff_mask=True):\n",
    "    number_of_sentences_per_doc = df.groupby(mask_id).apply(lambda x: len(x.s_id))\n",
    "    document_blocks = number_of_sentences_per_doc.apply(make_block)\n",
    "    same_doc_mask = block_diag(*document_blocks)\n",
    "    if diff_mask:\n",
    "        diff_doc_mask = np.logical_not(same_doc_mask)\n",
    "    # upper diagonals, so we ignore same sentences\n",
    "    same_doc_mask = np.triu(same_doc_mask, 1)\n",
    "    if diff_mask:\n",
    "        diff_doc_mask = np.triu(diff_doc_mask, 1)\n",
    "        return same_doc_mask, diff_doc_mask\n",
    "    else:\n",
    "        return same_doc_mask\n",
    "\n",
    "def make_df_from_distances(labeled_arrays):\n",
    "    unique_labels = list(labeled_arrays.keys())\n",
    "    distance_arrays = list(labeled_arrays.values())\n",
    "    labels = np.repeat(unique_labels, [len(da) for da in distance_arrays])\n",
    "    distances = np.concatenate(distance_arrays)\n",
    "    return pd.DataFrame({\"pair_type\": labels, \"distance\": distances})\n",
    "   \n",
    "def within_vs_across_docs(df):\n",
    "    # are they (different sentences and) in the same document?\n",
    "    same_doc, diff_doc = get_doc_masks(df, distances)\n",
    "    # mask by whether distances are in the same document\n",
    "    same_doc = distances[same_doc]\n",
    "    diff_doc = distances[diff_doc]\n",
    "    # create dataframe\n",
    "    doc_dist_df = make_df_from_distances({\"Same Document\": same_doc, \"Different Document\": diff_doc})\n",
    "    doc_dist_means = doc_dist_df.groupby(\"pair_type\").mean()\n",
    "    return doc_dist_means, doc_dist_df\n",
    "\n",
    "doc_dist_means, doc_dist_df = within_vs_across_docs(df)\n",
    "doc_dist_means"
   ]
  },
  {
   "cell_type": "code",
   "execution_count": null,
   "metadata": {},
   "outputs": [],
   "source": [
    "%%R -i doc_dist_df -w 300 -h 200 -u px\n",
    "p = doc_dist_df %>%\n",
    "ggplot(aes(x = pair_type, y = distance)) +\n",
    "stat_summary(fun.y = mean, geom = \"bar\", fill = \"gray\", colour = \"black\") +\n",
    "stat_summary(fun.data = mean_cl_boot, geom = \"errorbar\", colour=\"black\", width = 0.1) +\n",
    "ylab(\"Cosine Distance\") +\n",
    "xlab(\"Sentence Pair\") +\n",
    "theme_few(12)\n",
    "print(p)\n",
    "ggsave(paste(\"within_vs_across_documents\", n_articles, \".png\", sep=\"\"))"
   ]
  },
  {
   "cell_type": "code",
   "execution_count": null,
   "metadata": {},
   "outputs": [],
   "source": [
    "# sanity check that nothing is in the same doc *and* a different doc\n",
    "same_doc, diff_doc = get_doc_masks(df, distances)\n",
    "assert(np.sum((same_doc == diff_doc) & (same_doc != 0)) == 0)"
   ]
  },
  {
   "cell_type": "code",
   "execution_count": 23,
   "metadata": {},
   "outputs": [],
   "source": [
    "# from scipy import stats\n",
    "# stats.ttest_ind(doc_dist_df[doc_dist_df['pair_type']=='Same Document']['distance'],\n",
    "#                 doc_dist_df[doc_dist_df['pair_type']=='Different Document']['distance'], equal_var=False)"
   ]
  },
  {
   "cell_type": "markdown",
   "metadata": {},
   "source": [
    "## Within-documents\n",
    "\n",
    "How does the distances between two unique sentences in the same paragraph vary as a function of how far apart they are in the paragraph?\n",
    "\n",
    "How far from the first sentence is each subsequent sentence in the paragraph?"
   ]
  },
  {
   "cell_type": "code",
   "execution_count": 89,
   "metadata": {},
   "outputs": [],
   "source": [
    "# get distances and data for all within-document pairs\n",
    "\n",
    "# get all sentence pairs\n",
    "sentence_pair_indices = cartesian((df.s_id,df.s_id))\n",
    "# get same document mask\n",
    "same_doc = get_doc_masks(df, distances, \"doc_id\", diff_mask=False)\n",
    "# filter distances to only unique sentences in the same document\n",
    "increments = distances[same_doc]\n",
    "\n",
    "col_names = [n for n in list(df.keys()) if not n in [\"Unnamed: 0\", \"sec_title\"]]\n",
    "within_doc_df = {}\n",
    "for s in [0, 1]:\n",
    "    # get sentence ideas for (start|end) sentence of the pair\n",
    "    s_ids = sentence_pair_indices[:,s]\n",
    "    # filter distances to only unique sentences in the same document\n",
    "    s_ids.shape = distances.shape\n",
    "    s_ids = s_ids[same_doc]\n",
    "    # get column values for those within-document sentence pairs\n",
    "    for var in col_names:\n",
    "        new_var = \"%s_%s\" %((\"start\" if s==0 else \"end\"), var)\n",
    "        within_doc_df[new_var] = df.loc[s_ids][var].values\n",
    "\n",
    "within_doc_df = pd.DataFrame(within_doc_df)\n",
    "within_doc_df[\"increment\"] = increments\n",
    "within_doc_df[\"s_separation\"] = (within_doc_df.end_s_id - within_doc_df.start_s_id)"
   ]
  },
  {
   "cell_type": "code",
   "execution_count": 90,
   "metadata": {},
   "outputs": [],
   "source": [
    "within_par_df = within_doc_df[within_doc_df.start_par_id == within_doc_df.end_par_id]\n",
    "within_sec_df = within_doc_df[within_doc_df.start_sec_id == within_doc_df.end_sec_id]"
   ]
  },
  {
   "cell_type": "code",
   "execution_count": 91,
   "metadata": {},
   "outputs": [
    {
     "name": "stderr",
     "output_type": "stream",
     "text": [
      "/home/erindb/miniconda2/envs/dod/lib/python3.6/site-packages/rpy2/robjects/pandas2ri.py:191: FutureWarning: from_items is deprecated. Please use DataFrame.from_dict(dict(items), ...) instead. DataFrame.from_dict(OrderedDict(items)) may be used to preserve the key order.\n",
      "  res = PandasDataFrame.from_items(items)\n"
     ]
    }
   ],
   "source": [
    "%%R -i within_par_df -i doc_dist_means\n",
    "# compute within-paragraph distances, scale by length of paragraph\n",
    "within_par_df = within_par_df %>%\n",
    "group_by(start_par_id) %>%\n",
    "mutate(par_length = length(unique(c(start_s_id, end_s_id))),\n",
    "       s_separation = end_s_id - start_s_id,\n",
    "       par_separation = s_separation / (par_length - 1)) %>%\n",
    "as.data.frame() %>%\n",
    "group_by(par_length) %>%\n",
    "mutate(n_pars = length(unique(start_par_id))) %>%\n",
    "as.data.frame()"
   ]
  },
  {
   "cell_type": "code",
   "execution_count": 93,
   "metadata": {},
   "outputs": [
    {
     "data": {
      "image/png": "[encoded data removed]"
     },
     "metadata": {},
     "output_type": "display_data"
    }
   ],
   "source": [
    "%%R -w 400 -h 200 -u px\n",
    "p = within_par_df %>%\n",
    "filter(n_pars > 10) %>%\n",
    "ggplot(., aes(x = par_separation,\n",
    "              y = increment,\n",
    "              group = par_length,\n",
    "              colour = par_length)) +\n",
    "geom_hline(yintercept = doc_dist_means[\"Different Document\",\"distance\"], colour=\"lightgray\") +\n",
    "geom_hline(yintercept = doc_dist_means[\"Same Document\",\"distance\"], colour=\"darkgray\") +\n",
    "geom_smooth(method=\"loess\", group=1, colour=\"darkgray\", alpha=1/2) +\n",
    "xlab(\"Proportion of paragraph between the pair\") +\n",
    "ylab(\"Cosine distance\") +\n",
    "theme_few(12)\n",
    "print(p)\n",
    "ggsave(paste(\"within_par_decay_smoothed_\", n_articles, \".png\", sep=\"\"))"
   ]
  },
  {
   "cell_type": "code",
   "execution_count": 128,
   "metadata": {},
   "outputs": [
    {
     "name": "stderr",
     "output_type": "stream",
     "text": [
      "/home/erindb/miniconda2/envs/dod/lib/python3.6/site-packages/rpy2/rinterface/__init__.py:146: RRuntimeWarning: geom_path: Each group consists of only one observation. Do you need to adjust\n",
      "the group aesthetic?\n",
      "\n",
      "  warnings.warn(x, RRuntimeWarning)\n",
      "/home/erindb/miniconda2/envs/dod/lib/python3.6/site-packages/rpy2/rinterface/__init__.py:146: RRuntimeWarning: Saving 8.33 x 5.56 in image\n",
      "\n",
      "  warnings.warn(x, RRuntimeWarning)\n"
     ]
    },
    {
     "data": {
      "image/png": "[encoded data removed]"
     },
     "metadata": {},
     "output_type": "display_data"
    }
   ],
   "source": [
    "%%R -w 600 -h 400 -u px\n",
    "p = within_par_df %>%\n",
    "filter(n_pars > 10) %>%\n",
    "mutate(`Paragraph length` = par_length) %>%\n",
    "ggplot(., aes(x = par_separation,\n",
    "              y = increment,\n",
    "              group = `Paragraph length`,\n",
    "              colour = `Paragraph length`)) +\n",
    "geom_hline(yintercept = doc_dist_means[\"Different Document\",\"distance\"], colour=\"lightgray\") +\n",
    "geom_hline(yintercept = doc_dist_means[\"Same Document\",\"distance\"], colour=\"darkgray\") +\n",
    "stat_summary(fun.y = mean, geom = \"line\") +\n",
    "stat_summary(fun.y = mean, geom = \"point\") +\n",
    "stat_summary(fun.data = mean_cl_boot, geom = \"errorbar\", width=0) +\n",
    "xlab(\"Proportion of paragraph between the pair\") +\n",
    "ylab(\"Cosine distance\") +\n",
    "facet_wrap(~`Paragraph length`) +\n",
    "theme_few(12)\n",
    "print(p)\n",
    "ggsave(paste(\"within_par_decay_facetted_\", n_articles, \".png\", sep=\"\"))"
   ]
  },
  {
   "cell_type": "code",
   "execution_count": 127,
   "metadata": {},
   "outputs": [
    {
     "data": {
      "image/png": "[encoded data removed]"
     },
     "metadata": {},
     "output_type": "display_data"
    }
   ],
   "source": [
    "%%R\n",
    "# length of paragraph by par_in_doc\n",
    "within_par_df %>%\n",
    "group_by(start_par_id) %>%\n",
    "summarise(\n",
    "    par_in_doc = start_par_in_doc[1],\n",
    "    par_length = par_length[1]) %>%\n",
    "as.data.frame() %>%\n",
    "group_by(par_in_doc) %>%\n",
    "mutate(N = length(par_in_doc)) %>%\n",
    "as.data.frame() %>%\n",
    "filter(N>20) %>%\n",
    "ggplot(., aes(x = par_in_doc, y = par_length)) +\n",
    "stat_summary(fun.y = mean, geom = \"point\") +\n",
    "stat_summary(fun.data = mean_cl_boot, geom = \"errorbar\", width = 0)"
   ]
  },
  {
   "cell_type": "code",
   "execution_count": null,
   "metadata": {},
   "outputs": [],
   "source": []
  },
  {
   "cell_type": "code",
   "execution_count": null,
   "metadata": {},
   "outputs": [],
   "source": [
    "%%R\n",
    "(within_par_df %>%\n",
    "filter(par_length == 2) %>%\n",
    "filter(s_separation == 1) %>%\n",
    "mutate(paragraph = paste(start_sentence, end_sentence)) %>%\n",
    ".[[\"start_par_in_doc\"]] == 0) %>% sum()\n",
    "\n",
    "(within_par_df %>%\n",
    "group_by(start_par_id) %>%\n",
    "summarise(start_par_in_doc = start_par_in_doc[1]) %>%\n",
    ".[[\"start_par_in_doc\"]] == 0) %>% sum()"
   ]
  },
  {
   "cell_type": "markdown",
   "metadata": {},
   "source": [
    "## Distances between adjacent sentences\n",
    "\n",
    "Here's where we start talking about trajectories, at least to some extent. What's the pacing throughout the discourse? When do we make bigger or smaller moves through sentence vector space?\n",
    "\n",
    "Position in the paragraph might affect the distance between adjacent sentences:\n",
    "* accross a paragraph boundary (last of one paragraph, first of next)\n",
    "* paragraph-internal\n",
    "* first two sentences\n",
    "* last two sentences"
   ]
  },
  {
   "cell_type": "code",
   "execution_count": null,
   "metadata": {},
   "outputs": [],
   "source": [
    "def get_same_par_mask(df, distances):\n",
    "    # pairs of indices\n",
    "    product = cartesian((df.par_id,df.par_id))\n",
    "    # are they in the same document?\n",
    "    same_doc_mask = product[:,0] == product[:,1]\n",
    "    same_doc_mask.shape = distances.shape\n",
    "    return same_doc_mask\n",
    "\n",
    "def get_first_mask(df, distances):\n",
    "    # pairs of indices\n",
    "    product = cartesian((df.s_in_par,df.s_in_par))\n",
    "    # are they first?\n",
    "    first_mask = product[:,0] == 0\n",
    "    first_mask.shape = distances.shape\n",
    "    return first_mask\n",
    "\n",
    "def is_last_in_par(i, df):\n",
    "    if (i == (df.shape[0]-1)):\n",
    "        return True\n",
    "    else:\n",
    "        # next sentence is a different paragraph\n",
    "        return df.par_id[i+1] != df.par_id[i]\n",
    "    \n",
    "def get_last_mask(df, distances):\n",
    "    product = cartesian((df.s_id,df.s_id))\n",
    "    last_mask = np.array([is_last_in_par(i, df) for i in product[:,1]])\n",
    "    last_mask.shape = distances.shape\n",
    "    return last_mask\n",
    "\n",
    "def within_vs_across_par(df, distances, details = False):\n",
    "    product = cartesian((df.s_id,df.s_id))\n",
    "    adjacent = (product[:,1] - product[:,0]) == 1\n",
    "    adjacent.shape = distances.shape\n",
    "    \n",
    "    # mask to get adjacent sentences in the same document\n",
    "    adjacent = np.multiply(get_same_doc_mask(df, distances), adjacent)\n",
    "    \n",
    "    # mask to get adjacent sentences in the same paragraph\n",
    "    same_par_mask = get_same_par_mask(df, distances)\n",
    "    within_par_mask = np.multiply(same_par_mask, adjacent)\n",
    "    within_par_distances = distances[within_par_mask == 1]\n",
    "    across_par_mask = np.multiply(1 - same_par_mask, adjacent)\n",
    "    across_par_distances = distances[across_par_mask == 1]\n",
    "    \n",
    "    # TODO make this more faster\n",
    "    if (details):\n",
    "    \n",
    "        # mask to get adjacent sentences in the same paragraph:\n",
    "        #     - at the beginning of the paragraph\n",
    "        #     - in the middle of the paragraph\n",
    "        #     - at the end of the paragraph\n",
    "        first_mask = get_first_mask(df, distances)\n",
    "        last_mask = get_last_mask(df, distances)\n",
    "        internal_mask = (1 - (first_mask + last_mask))\n",
    "        first_mask = np.multiply(first_mask, within_par_mask)\n",
    "        internal_mask = np.multiply(internal_mask, within_par_mask)\n",
    "        last_mask = np.multiply(last_mask, within_par_mask)\n",
    "        first_distances = distances[first_mask == 1]\n",
    "        internal_distances = distances[internal_mask == 1]\n",
    "        last_distances = distances[last_mask == 1]\n",
    "        \n",
    "        pair_types = ([\"Within Paragraph (First)\" for i in range(len(first_distances))] +\n",
    "                      [\"Within Paragraph (Internal)\" for i in range(len(internal_distances))] +\n",
    "                      [\"Within Paragraph (Last)\" for i in range(len(last_distances))] +\n",
    "                      [\"Across Paragraphs\" for i in range(len(across_par_distances))])\n",
    "        distances = np.concatenate((first_distances,\n",
    "                                    internal_distances,\n",
    "                                    last_distances,\n",
    "                                    across_par_distances), axis=None)\n",
    "    else:\n",
    "        pair_types = ([\"Within Paragraph\" for i in range(len(within_par_distances))] +\n",
    "                      [\"Across Paragraphs\" for i in range(len(across_par_distances))])\n",
    "        distances = np.concatenate((within_par_distances, across_par_distances), axis=None)\n",
    "\n",
    "    # create dataframe\n",
    "    par_dist_df = pd.DataFrame({\"pair_type\": pair_types,\n",
    "                                \"distance\": distances})\n",
    "    # get means\n",
    "    par_dist_means = par_dist_df.groupby(\"pair_type\").mean()\n",
    "    \n",
    "    return par_dist_means, par_dist_df\n",
    "\n",
    "par_dist_means, par_dist_df = within_vs_across_par(df, distances)\n",
    "par_dist_means"
   ]
  },
  {
   "cell_type": "code",
   "execution_count": null,
   "metadata": {},
   "outputs": [],
   "source": [
    "# for within paragraph sentences, could be:\n",
    "#     - paragraph-internal\n",
    "#     - first two sentences\n",
    "#     - last two sentences\n",
    "\n",
    "par_details_dist_means, par_details_dist_df = within_vs_across_par(df, distances, details = True)\n",
    "par_details_dist_means"
   ]
  },
  {
   "cell_type": "code",
   "execution_count": null,
   "metadata": {},
   "outputs": [],
   "source": [
    "par_details_dist_df\n",
    "dataset = \"wiki\"\n",
    "model = \"skipthoughts\"\n",
    "distances_matrix_filename = \"data/%s/distances_%s_%s_%d.npy\" %(dataset, dataset, model, n_articles)\n",
    "np.save(distances_matrix_filename, par_details_dist_df)"
   ]
  },
  {
   "cell_type": "markdown",
   "metadata": {},
   "source": [
    "## R visualization"
   ]
  },
  {
   "cell_type": "code",
   "execution_count": 209,
   "metadata": {},
   "outputs": [
    {
     "data": {
      "image/png": "[encoded data removed]"
     },
     "metadata": {},
     "output_type": "display_data"
    }
   ],
   "source": [
    "%%R -i increments_df -w 300 -h 200 -u px\n",
    "\n",
    "p = increments_df %>%\n",
    "group_by(par_lengths) %>%\n",
    "mutate(approx_n_pars = length(start_s_id)/(par_lengths[1])) %>%\n",
    "as.data.frame %>%\n",
    "filter(approx_n_pars > 100) %>%\n",
    "ggplot(., aes(x = par_separation, y = distance)) +\n",
    "stat_summary(fun.y = mean, geom = \"point\", colour = \"gray\") +\n",
    "# geom_point(alpha=1/10) +\n",
    "stat_smooth(colour=\"darkgray\") +\n",
    "theme_few() +\n",
    "ylab(\"Cosine distance\") +\n",
    "xlab(\"Separation of sentences within paragraph\") +\n",
    "# facet_wrap(~par_lengths) +\n",
    "theme_few(12)\n",
    "print(p)\n",
    "ggsave(paste(\"within_par_decay_\", n_articles, \".png\", sep=\"\"))"
   ]
  },
  {
   "cell_type": "code",
   "execution_count": 210,
   "metadata": {},
   "outputs": [
    {
     "name": "stderr",
     "output_type": "stream",
     "text": [
      "/home/erindb/miniconda2/envs/dod/lib/python3.6/site-packages/rpy2/rinterface/__init__.py:146: RRuntimeWarning: Saving 6.67 x 6.67 in image\n",
      "\n",
      "  warnings.warn(x, RRuntimeWarning)\n"
     ]
    },
    {
     "data": {
      "image/png": "[encoded data removed]"
     },
     "metadata": {},
     "output_type": "display_data"
    }
   ],
   "source": [
    "%%R\n",
    "\n",
    "p = increments_df %>%\n",
    "group_by(par_lengths) %>%\n",
    "mutate(approx_n_pars = length(start_s_id)/(par_lengths[1])) %>%\n",
    "as.data.frame %>%\n",
    "filter(approx_n_pars > 100) %>%\n",
    "ggplot(., aes(x = par_separation, y = distance)) +\n",
    "stat_summary(fun.y = mean, geom = \"point\", colour = \"gray\") +\n",
    "# geom_point(alpha=1/10) +\n",
    "stat_smooth(colour=\"darkgray\") +\n",
    "theme_few() +\n",
    "ylab(\"Cosine distance\") +\n",
    "xlab(\"Separation of sentences within paragraph\") +\n",
    "facet_wrap(~par_lengths) +\n",
    "theme_few(12)\n",
    "print(p)\n",
    "ggsave(paste(\"within_par_decay_facetted_\", n_articles, \".png\", sep=\"\"))"
   ]
  },
  {
   "cell_type": "code",
   "execution_count": 182,
   "metadata": {},
   "outputs": [
    {
     "data": {
      "text/plain": [
       "[1] sentence_separation distance            par_lengths        \n",
       "[4] start_s_id          end_s_id            par_separation     \n",
       "<0 rows> (or 0-length row.names)\n"
      ]
     },
     "metadata": {},
     "output_type": "display_data"
    }
   ],
   "source": [
    "%%R\n",
    "increments_df %>% filter(sentence_separation < 0.01)"
   ]
  },
  {
   "cell_type": "code",
   "execution_count": 148,
   "metadata": {},
   "outputs": [
    {
     "data": {
      "text/plain": [
       "[1] \"@ 6 m ) .\"\n",
       "[1] \"@ 6 m ) .\"\n"
      ]
     },
     "metadata": {},
     "output_type": "display_data"
    }
   ],
   "source": [
    "%%R -i df\n",
    "# increments_df %>%\n",
    "# filter(distance < 0.0001)\n",
    "\n",
    "print((df %>% filter(s_id == 887))$sentence)\n",
    "print((df %>% filter(s_id == 890))$sentence)"
   ]
  },
  {
   "cell_type": "code",
   "execution_count": 48,
   "metadata": {},
   "outputs": [
    {
     "name": "stderr",
     "output_type": "stream",
     "text": [
      "/home/erindb/miniconda2/envs/dod/lib/python3.6/site-packages/rpy2/robjects/pandas2ri.py:191: FutureWarning: from_items is deprecated. Please use DataFrame.from_dict(dict(items), ...) instead. DataFrame.from_dict(OrderedDict(items)) may be used to preserve the key order.\n",
      "  res = PandasDataFrame.from_items(items)\n"
     ]
    },
    {
     "data": {
      "text/plain": [
       "                    distance\n",
       "Different Document 0.4210159\n",
       "Same Document      0.3978477\n"
      ]
     },
     "metadata": {},
     "output_type": "display_data"
    }
   ],
   "source": [
    "%%R -i doc_dist_means\n",
    "doc_dist_means"
   ]
  },
  {
   "cell_type": "code",
   "execution_count": 50,
   "metadata": {},
   "outputs": [
    {
     "data": {
      "image/png": "[encoded data removed]"
     },
     "metadata": {},
     "output_type": "display_data"
    }
   ],
   "source": [
    "%%R -i doc_dist_df -w 300 -h 200 -u px\n",
    "p = doc_dist_df %>%\n",
    "ggplot(aes(x = distance, fill = pair_type)) +\n",
    "geom_histogram(bins=30) +\n",
    "theme_few(12)\n",
    "print(p)\n",
    "ggsave(paste(\"within_vs_across_documents_density_\", n_articles, \".png\", sep=\"\"))"
   ]
  },
  {
   "cell_type": "code",
   "execution_count": 12,
   "metadata": {},
   "outputs": [
    {
     "name": "stderr",
     "output_type": "stream",
     "text": [
      "UsageError: Cell magic `%%R` not found.\n"
     ]
    }
   ],
   "source": [
    "%%R -i doc_dist_df -w 300 -h 200 -u px\n",
    "p = doc_dist_df %>%\n",
    "ggplot(aes(x = pair_type, y = distance)) +\n",
    "stat_summary(fun.y = mean, geom = \"bar\", fill = \"gray\", colour = \"black\") +\n",
    "stat_summary(fun.data = mean_cl_boot, geom = \"errorbar\", colour=\"black\", width = 0.1) +\n",
    "ylab(\"Cosine Distance\") +\n",
    "xlab(\"Sentence Pair\") +\n",
    "theme_few(12)\n",
    "print(p)\n",
    "# ggsave(\"within_vs_across_documents.png\")"
   ]
  },
  {
   "cell_type": "code",
   "execution_count": null,
   "metadata": {},
   "outputs": [],
   "source": [
    "# %%R -i par_dist_df -w 200 -h 200 -u px\n",
    "# p = par_dist_df %>%\n",
    "# ggplot(., aes(x = pair_type, y = distance)) +\n",
    "# geom_hline(yintercept = doc_dist_means[\"Different Document\", \"distance\"], colour=\"gray\") +\n",
    "# geom_hline(yintercept = doc_dist_means[\"Same Document\", \"distance\"], colour=\"gray\") +\n",
    "# stat_summary(fun.y = mean, geom = \"bar\", fill=\"gray\", colour=\"black\") +\n",
    "# stat_summary(fun.data = mean_cl_boot,\n",
    "#              geom = \"errorbar\",\n",
    "#              colour=\"black\",\n",
    "#              width=0.1) +\n",
    "# ylab(\"Cosine Distance\") +\n",
    "# xlab(\"Sentence Pair\") +\n",
    "# theme_few(10)\n",
    "# print(p)\n",
    "# ggsave(\"adjacent_sentences_within_and_across_paragraphs.png\")"
   ]
  },
  {
   "cell_type": "code",
   "execution_count": null,
   "metadata": {},
   "outputs": [],
   "source": [
    "# %%R -i par_details_dist_df -w 400 -h 200 -u px\n",
    "# p = par_details_dist_df %>%\n",
    "# ggplot(., aes(x = pair_type, y = distance)) +\n",
    "# geom_hline(yintercept = doc_dist_means[\"Different Document\", \"distance\"], colour=\"gray\") +\n",
    "# geom_hline(yintercept = doc_dist_means[\"Same Document\", \"distance\"], colour=\"gray\") +\n",
    "# stat_summary(fun.y = mean, geom = \"bar\", fill=\"gray\", colour=\"black\") +\n",
    "# stat_summary(fun.data = mean_cl_boot,\n",
    "#              geom = \"errorbar\",\n",
    "#              colour=\"black\",\n",
    "#              width=0.1) +\n",
    "# ylab(\"Cosine Distance\") +\n",
    "# xlab(\"Sentence Pair\") +\n",
    "# theme_few(10)\n",
    "# print(p)\n",
    "# ggsave(\"adjacent_sentences_more_details.png\")"
   ]
  },
  {
   "cell_type": "code",
   "execution_count": null,
   "metadata": {},
   "outputs": [],
   "source": []
  }
 ],
 "metadata": {
  "kernelspec": {
   "display_name": "Python [conda env:dod]",
   "language": "python",
   "name": "conda-env-dod-py"
  },
  "language_info": {
   "codemirror_mode": {
    "name": "ipython",
    "version": 3
   },
   "file_extension": ".py",
   "mimetype": "text/x-python",
   "name": "python",
   "nbconvert_exporter": "python",
   "pygments_lexer": "ipython3",
   "version": "3.6.7"
  }
 },
 "nbformat": 4,
 "nbformat_minor": 2
}
