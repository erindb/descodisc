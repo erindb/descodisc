{
 "cells": [
  {
   "cell_type": "markdown",
   "metadata": {},
   "source": [
    "# Distances\n",
    "\n",
    "## Adjacent sentences\n",
    "\n",
    "* accross a paragraph boundary (last of one paragraph, first of next)\n",
    "* paragraph-internal\n",
    "* first two sentences\n",
    "* last two sentences"
   ]
  },
  {
   "cell_type": "code",
   "execution_count": 1,
   "metadata": {},
   "outputs": [],
   "source": [
    "%load_ext rpy2.ipython"
   ]
  },
  {
   "cell_type": "code",
   "execution_count": 2,
   "metadata": {},
   "outputs": [],
   "source": [
    "import pandas as pd\n",
    "import numpy as np\n",
    "from sklearn.metrics.pairwise import cosine_similarity\n",
    "from copy import deepcopy"
   ]
  },
  {
   "cell_type": "code",
   "execution_count": 4,
   "metadata": {},
   "outputs": [
    {
     "name": "stderr",
     "output_type": "stream",
     "text": [
      "/home/erindb/miniconda2/envs/dod/lib/python3.7/site-packages/rpy2/rinterface/__init__.py:146: RRuntimeWarning: ── \u001b[1mAttaching packages\u001b[22m ─────────────────────────────────────── tidyverse 1.2.1 ──\n",
      "\n",
      "  warnings.warn(x, RRuntimeWarning)\n",
      "/home/erindb/miniconda2/envs/dod/lib/python3.7/site-packages/rpy2/rinterface/__init__.py:146: RRuntimeWarning: \u001b[32m✔\u001b[39m \u001b[34mggplot2\u001b[39m 3.0.0     \u001b[32m✔\u001b[39m \u001b[34mpurrr  \u001b[39m 0.2.5\n",
      "\u001b[32m✔\u001b[39m \u001b[34mtibble \u001b[39m 1.4.2     \u001b[32m✔\u001b[39m \u001b[34mdplyr  \u001b[39m 0.7.6\n",
      "\u001b[32m✔\u001b[39m \u001b[34mtidyr  \u001b[39m 0.8.1     \u001b[32m✔\u001b[39m \u001b[34mstringr\u001b[39m 1.3.1\n",
      "\u001b[32m✔\u001b[39m \u001b[34mreadr  \u001b[39m 1.1.1     \u001b[32m✔\u001b[39m \u001b[34mforcats\u001b[39m 0.3.0\n",
      "\n",
      "  warnings.warn(x, RRuntimeWarning)\n",
      "/home/erindb/miniconda2/envs/dod/lib/python3.7/site-packages/rpy2/rinterface/__init__.py:146: RRuntimeWarning: ── \u001b[1mConflicts\u001b[22m ────────────────────────────────────────── tidyverse_conflicts() ──\n",
      "\u001b[31m✖\u001b[39m \u001b[34mdplyr\u001b[39m::\u001b[32mfilter()\u001b[39m masks \u001b[34mstats\u001b[39m::filter()\n",
      "\u001b[31m✖\u001b[39m \u001b[34mdplyr\u001b[39m::\u001b[32mlag()\u001b[39m    masks \u001b[34mstats\u001b[39m::lag()\n",
      "\n",
      "  warnings.warn(x, RRuntimeWarning)\n",
      "/home/erindb/miniconda2/envs/dod/lib/python3.7/site-packages/rpy2/rinterface/__init__.py:146: RRuntimeWarning: Loading required package: lattice\n",
      "\n",
      "  warnings.warn(x, RRuntimeWarning)\n",
      "/home/erindb/miniconda2/envs/dod/lib/python3.7/site-packages/rpy2/rinterface/__init__.py:146: RRuntimeWarning: Loading required package: survival\n",
      "\n",
      "  warnings.warn(x, RRuntimeWarning)\n",
      "/home/erindb/miniconda2/envs/dod/lib/python3.7/site-packages/rpy2/rinterface/__init__.py:146: RRuntimeWarning: Loading required package: Formula\n",
      "\n",
      "  warnings.warn(x, RRuntimeWarning)\n",
      "/home/erindb/miniconda2/envs/dod/lib/python3.7/site-packages/rpy2/rinterface/__init__.py:146: RRuntimeWarning: \n",
      "Attaching package: ‘Hmisc’\n",
      "\n",
      "\n",
      "  warnings.warn(x, RRuntimeWarning)\n",
      "/home/erindb/miniconda2/envs/dod/lib/python3.7/site-packages/rpy2/rinterface/__init__.py:146: RRuntimeWarning: The following objects are masked from ‘package:dplyr’:\n",
      "\n",
      "    src, summarize\n",
      "\n",
      "\n",
      "  warnings.warn(x, RRuntimeWarning)\n",
      "/home/erindb/miniconda2/envs/dod/lib/python3.7/site-packages/rpy2/rinterface/__init__.py:146: RRuntimeWarning: The following objects are masked from ‘package:base’:\n",
      "\n",
      "    format.pval, units\n",
      "\n",
      "\n",
      "  warnings.warn(x, RRuntimeWarning)\n"
     ]
    }
   ],
   "source": [
    "%%R -w 800 -h 480 -u px\n",
    "library(tidyverse)\n",
    "library(Hmisc)\n",
    "library(ggthemes)"
   ]
  },
  {
   "cell_type": "code",
   "execution_count": 35,
   "metadata": {},
   "outputs": [],
   "source": [
    "n_articles = 100\n",
    "input_matrix_file = \"data/wiki/wiki_skipthoughts_%d.npy\" %(n_articles)\n",
    "input_data_file = \"data/wiki/wiki_reformatted_%d.csv\" %(n_articles)\n",
    "# load data\n",
    "df = pd.read_csv(input_data_file)\n",
    "# load embeddings\n",
    "embeddings = np.load(input_matrix_file)"
   ]
  },
  {
   "cell_type": "code",
   "execution_count": 36,
   "metadata": {},
   "outputs": [],
   "source": [
    "# all pairwise distances\n",
    "D = 1 - cosine_similarity(embeddings, embeddings)"
   ]
  },
  {
   "cell_type": "code",
   "execution_count": null,
   "metadata": {},
   "outputs": [],
   "source": [
    "# label all pairwise distances\n",
    "distance_list = []\n",
    "single_distance_data = {\n",
    "    \"distance\": -1,\n",
    "    \"same_paragraph\": None,\n",
    "    \"sentence_offset\": -1,\n",
    "    \"same_document\": None,\n",
    "    \"label\": \"IGNORE\",\n",
    "    \"paragraph_bookends\": False,\n",
    "    \"adjacent\": None\n",
    "}\n",
    "n_sentences = df.shape[0]\n",
    "# n_sentences = 10\n",
    "for i in range(n_sentences):\n",
    "    for j in range(i+1, n_sentences):\n",
    "        single_distance_data[\"distance\"] = D[i,j]\n",
    "        same_paragraph = (df.par_id[i] == df.par_id[j])\n",
    "        single_distance_data[\"same_paragraph\"] = same_paragraph\n",
    "        single_distance_data[\"same_document\"] = (df.doc_id[i] == df.doc_id[j])\n",
    "        sentence_offset = (df.s_id[j] - df.s_id[i])\n",
    "        single_distance_data[\"sentence_offset\"] = sentence_offset\n",
    "        single_distance_data[\"i\"] = i\n",
    "        single_distance_data[\"j\"] = j\n",
    "        j_is_last = (j == (df.shape[0]-1)) or (df.par_id[j] != df.par_id[j+1])\n",
    "        i_is_first = (df.s_in_par[i] == 0)\n",
    "        single_distance_data[\"paragraph_bookends\"] = (j_is_last and i_is_first and same_paragraph)\n",
    "        adjacent = (sentence_offset == 1)\n",
    "        single_distance_data[\"adjacent\"] = adjacent\n",
    "        # first sentence of doc: IGNORE\n",
    "        # second sentence of paragraph: first\n",
    "        # third to second-to-last sentences of paragraph : internal\n",
    "        # last sentence of paragraph: last\n",
    "        # first sentence of paragraph: crossing\n",
    "        # ...\n",
    "        # last sentence of document: last\n",
    "        if (adjacent):\n",
    "            # j always comes after i\n",
    "            if (df.s_in_par[j] == 0):\n",
    "                # if we're not at the start of a document\n",
    "                # but we are at the start of a paragraph,\n",
    "                # then this and its previous sentence cross\n",
    "                # a paragraph boundary\n",
    "                label = \"Across Paragraphs\"\n",
    "            elif (df.s_in_par[j] == 1):\n",
    "                # compare second sentence of a paragraph to the first\n",
    "                label = \"Within (First)\"\n",
    "            elif (j_is_last):\n",
    "                label = \"Within (Last)\"\n",
    "            else:\n",
    "                label = \"Within (Internal)\"\n",
    "        else:\n",
    "            label = \"IGNORE\"\n",
    "        single_distance_data[\"label\"] = label\n",
    "        distance_list.append(deepcopy(single_distance_data))\n",
    "                \n",
    "dist_df = pd.DataFrame(distance_list)"
   ]
  },
  {
   "cell_type": "code",
   "execution_count": null,
   "metadata": {},
   "outputs": [],
   "source": [
    "adjacent = dist_df[dist_df.label != \"IGNORE\"]\n",
    "adjacent"
   ]
  },
  {
   "cell_type": "code",
   "execution_count": null,
   "metadata": {},
   "outputs": [],
   "source": [
    "%%R -i dist_df\n",
    "head(dist_df)"
   ]
  },
  {
   "cell_type": "markdown",
   "metadata": {},
   "source": [
    "Within vs. Across document distances for any sentences:"
   ]
  },
  {
   "cell_type": "code",
   "execution_count": null,
   "metadata": {},
   "outputs": [],
   "source": [
    "%%R -w 300 -h 200 -u px\n",
    "dist_df %>%\n",
    "mutate(same_document = ifelse(same_document,\n",
    "                              \"Same Document\",\n",
    "                              \"Different Document\")) %>%\n",
    "ggplot(., aes(x = same_document, y = distance)) + \n",
    "stat_summary(fun.y = mean, geom = \"bar\", fill=\"gray\", colour=\"black\") +\n",
    "stat_summary(fun.data = mean_cl_boot,\n",
    "             geom = \"errorbar\",\n",
    "             colour=\"black\",\n",
    "             lwd=1,\n",
    "             width=0.1) +\n",
    "ylab(\"Cosine Distance\") +\n",
    "xlab(\"Sentence Pair\") +\n",
    "theme_few(12)\n",
    "ggsave(\"within_vs_across_documents.png\")"
   ]
  },
  {
   "cell_type": "code",
   "execution_count": null,
   "metadata": {},
   "outputs": [],
   "source": [
    "%%R\n",
    "doc_distances = dist_df %>%\n",
    "group_by(same_document) %>%\n",
    "summarise(dist = mean(distance)) %>%\n",
    "as.data.frame"
   ]
  },
  {
   "cell_type": "code",
   "execution_count": null,
   "metadata": {},
   "outputs": [],
   "source": [
    "%%R\n",
    "doc_distances"
   ]
  },
  {
   "cell_type": "markdown",
   "metadata": {},
   "source": [
    "Within vs. Across paragraph distances for adjacent sentences:"
   ]
  },
  {
   "cell_type": "code",
   "execution_count": null,
   "metadata": {},
   "outputs": [],
   "source": [
    "%%R -w 200 -h 200 -u px\n",
    "adjacent %>%\n",
    "mutate(crossing = ifelse(label==\"Across Paragraphs\",\n",
    "                         \"Across Paragraphs\",\n",
    "                         \"Within Paragraph\")) %>%\n",
    "ggplot(., aes(x = crossing, y = distance)) +\n",
    "geom_hline(yintercept = doc_distances$dist[!doc_distances$same_document], colour=\"gray\") +\n",
    "geom_hline(yintercept = doc_distances$dist[doc_distances$same_document], colour=\"gray\") +\n",
    "stat_summary(fun.y = mean, geom = \"bar\", fill=\"gray\", colour=\"black\") +\n",
    "stat_summary(fun.data = mean_cl_boot,\n",
    "             geom = \"errorbar\",\n",
    "             colour=\"black\",\n",
    "             width=0.1) +\n",
    "ylab(\"Cosine Distance\") +\n",
    "xlab(\"Sentence Pair\") +\n",
    "theme_few(10)\n",
    "ggsave(\"adjacent_sentences_within_and_across_paragraphs.png\")"
   ]
  },
  {
   "cell_type": "markdown",
   "metadata": {},
   "source": [
    "Within vs. Across document distances for any sentences:"
   ]
  },
  {
   "cell_type": "code",
   "execution_count": null,
   "metadata": {},
   "outputs": [],
   "source": [
    "%%R\n",
    "dist_df %>%\n",
    "filter(paragraph_bookends | label!=\"IGNORE\") %>%\n",
    "mutate(label = ifelse(paragraph_bookends, \"Bookends\", char(label))) %>%\n",
    "ggplot(., aes(x = label, y = distance)) +\n",
    "geom_hline(yintercept = doc_distances$dist[!doc_distances$same_document], colour=\"gray\") +\n",
    "geom_hline(yintercept = doc_distances$dist[doc_distances$same_document], colour=\"gray\") +\n",
    "stat_summary(fun.y = mean, geom = \"bar\", fill=\"gray\", colour=\"black\") +\n",
    "stat_summary(fun.data = mean_cl_boot,\n",
    "             geom = \"errorbar\",\n",
    "             colour=\"black\",\n",
    "             width=0.1) +\n",
    "ylab(\"Cosine Distance\") +\n",
    "xlab(\"Sentence Pair\") +\n",
    "theme_few(10)\n"
   ]
  },
  {
   "cell_type": "code",
   "execution_count": null,
   "metadata": {},
   "outputs": [],
   "source": [
    "%%R -w 400 -h 200 -u px\n",
    "dist_df %>%\n",
    "filter(paragraph_bookends | label!=\"IGNORE\") %>%\n",
    "mutate(label = ifelse(paragraph_bookends,\n",
    "                      \"Bookends\",\n",
    "                      as.character(label))) %>%\n",
    "ggplot(., aes(x = label, y = distance)) +\n",
    "geom_hline(yintercept = doc_distances$dist[!doc_distances$same_document], colour=\"gray\") +\n",
    "geom_hline(yintercept = doc_distances$dist[doc_distances$same_document], colour=\"gray\") +\n",
    "stat_summary(fun.y = mean, geom = \"bar\", fill=\"gray\", colour=\"black\") +\n",
    "stat_summary(fun.data = mean_cl_boot,\n",
    "             geom = \"errorbar\",\n",
    "             colour=\"black\",\n",
    "             width=0.1) +\n",
    "ylab(\"Cosine Distance\") +\n",
    "xlab(\"Sentence Pair\") +\n",
    "theme_few(10)\n",
    "ggsave(\"adjacent_sentences_more_details.png\")"
   ]
  },
  {
   "cell_type": "code",
   "execution_count": null,
   "metadata": {},
   "outputs": [],
   "source": []
  },
  {
   "cell_type": "code",
   "execution_count": null,
   "metadata": {},
   "outputs": [],
   "source": []
  },
  {
   "cell_type": "code",
   "execution_count": null,
   "metadata": {},
   "outputs": [],
   "source": []
  }
 ],
 "metadata": {
  "kernelspec": {
   "display_name": "Python [conda env:dod]",
   "language": "python",
   "name": "conda-env-dod-py"
  },
  "language_info": {
   "codemirror_mode": {
    "name": "ipython",
    "version": 3
   },
   "file_extension": ".py",
   "mimetype": "text/x-python",
   "name": "python",
   "nbconvert_exporter": "python",
   "pygments_lexer": "ipython3",
   "version": "3.7.0"
  }
 },
 "nbformat": 4,
 "nbformat_minor": 2
}
